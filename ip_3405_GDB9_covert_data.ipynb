{
 "cells": [
  {
   "cell_type": "markdown",
   "metadata": {},
   "source": [
    "# Parse Charged Molecules\n",
    "We also have the G4MP2 energies of these molecules. This script reads them in from the format I was sent, and puts them into a DataFrame."
   ]
  },
  {
   "cell_type": "code",
   "execution_count": null,
   "metadata": {},
   "outputs": [],
   "source": []
  },
  {
   "cell_type": "code",
   "execution_count": 1,
   "metadata": {},
   "outputs": [],
   "source": [
    "from jcesr_ml.utils import compute_atomization_energy\n",
    "from dlhub_sdk.models.datasets import TabularDataset\n",
    "from pymatgen.io.xyz import XYZ\n",
    "from ase.io.xyz import read_xyz\n",
    "import pybel\n",
    "from pybel import readstring\n",
    "from io import StringIO\n",
    "from glob import glob\n",
    "from ase.units import Hartree, eV\n",
    "from tqdm import tqdm\n",
    "import pandas as pd\n",
    "import json\n",
    "import os"
   ]
  },
  {
   "cell_type": "code",
   "execution_count": 2,
   "metadata": {},
   "outputs": [],
   "source": [
    "output_path = os.path.join('data', 'output', 'ip_molecules_3405_paper.json')"
   ]
  },
  {
   "cell_type": "markdown",
   "metadata": {},
   "source": [
    "## Load in B3LYP & wB97Xd Data\n",
    "This was computed separately, and is available in a separate cvs file"
   ]
  },
  {
   "cell_type": "code",
   "execution_count": 3,
   "metadata": {},
   "outputs": [],
   "source": [
    "charged_data = pd.read_csv(os.path.join('data', 'input', 'GDB9', 'ip_molecules_3405_paper.csv' ), \n",
    "                           delim_whitespace='')"
   ]
  },
  {
   "cell_type": "code",
   "execution_count": 4,
   "metadata": {},
   "outputs": [
    {
     "data": {
      "text/html": [
       "<div>\n",
       "<style scoped>\n",
       "    .dataframe tbody tr th:only-of-type {\n",
       "        vertical-align: middle;\n",
       "    }\n",
       "\n",
       "    .dataframe tbody tr th {\n",
       "        vertical-align: top;\n",
       "    }\n",
       "\n",
       "    .dataframe thead th {\n",
       "        text-align: right;\n",
       "    }\n",
       "</style>\n",
       "<table border=\"1\" class=\"dataframe\">\n",
       "  <thead>\n",
       "    <tr style=\"text-align: right;\">\n",
       "      <th></th>\n",
       "      <th>filename</th>\n",
       "      <th>n_heavy_atoms</th>\n",
       "      <th>n_atoms</th>\n",
       "      <th>n_electrons</th>\n",
       "      <th>xyz</th>\n",
       "      <th>xyz_oxidized</th>\n",
       "      <th>u0_b3lyp</th>\n",
       "      <th>u0_g4mp2</th>\n",
       "      <th>zpe_b3lyp</th>\n",
       "      <th>electronic_oxidized_b3lyp</th>\n",
       "      <th>...</th>\n",
       "      <th>electronic_neutral_b3lyp</th>\n",
       "      <th>electronic_neutral_wB97Xd</th>\n",
       "      <th>electronic_neutral_b3lyp_large</th>\n",
       "      <th>u0_oxidized_b3lyp</th>\n",
       "      <th>u0_oxidized_g4mp2</th>\n",
       "      <th>zpe_oxidized_b3lyp</th>\n",
       "      <th>u0_b3lyp_large</th>\n",
       "      <th>u0_wB97Xd</th>\n",
       "      <th>u0_oxidized_b3lyp_large</th>\n",
       "      <th>u0_oxidized_wB97Xd</th>\n",
       "    </tr>\n",
       "  </thead>\n",
       "  <tbody>\n",
       "    <tr>\n",
       "      <th>0</th>\n",
       "      <td>dsgdb9nsd_000001</td>\n",
       "      <td>1</td>\n",
       "      <td>5</td>\n",
       "      <td>10</td>\n",
       "      <td>5\\nH4 C1\\nC -0.012698 1.085804 0.008001\\nH 0.0...</td>\n",
       "      <td>5\\n\\nC -3.6e-05 0.000157 4.4e-05\\nH -1.031842 ...</td>\n",
       "      <td>-40.478930</td>\n",
       "      <td>-40.427662</td>\n",
       "      <td>0.044749</td>\n",
       "      <td>-40.060622</td>\n",
       "      <td>...</td>\n",
       "      <td>-40.523679</td>\n",
       "      <td>-40.518353</td>\n",
       "      <td>-40.526016</td>\n",
       "      <td>-40.024627</td>\n",
       "      <td>-39.959837</td>\n",
       "      <td>0.035995</td>\n",
       "      <td>-40.481268</td>\n",
       "      <td>-40.473604</td>\n",
       "      <td>-40.024679</td>\n",
       "      <td>-40.016973</td>\n",
       "    </tr>\n",
       "    <tr>\n",
       "      <th>1</th>\n",
       "      <td>dsgdb9nsd_000002</td>\n",
       "      <td>1</td>\n",
       "      <td>4</td>\n",
       "      <td>10</td>\n",
       "      <td>4\\nH3 N1\\nN -0.040426 1.024108 0.062564\\nH 0.0...</td>\n",
       "      <td>4\\n\\nN 0.0 4.8e-05 0.000313\\nH -0.889576 0.513...</td>\n",
       "      <td>-56.525887</td>\n",
       "      <td>-56.478971</td>\n",
       "      <td>0.034358</td>\n",
       "      <td>-56.194430</td>\n",
       "      <td>...</td>\n",
       "      <td>-56.560245</td>\n",
       "      <td>-56.564755</td>\n",
       "      <td>-56.568919</td>\n",
       "      <td>-56.161757</td>\n",
       "      <td>-56.104750</td>\n",
       "      <td>0.032673</td>\n",
       "      <td>-56.534561</td>\n",
       "      <td>-56.530397</td>\n",
       "      <td>-56.161908</td>\n",
       "      <td>-56.158444</td>\n",
       "    </tr>\n",
       "    <tr>\n",
       "      <th>2</th>\n",
       "      <td>dsgdb9nsd_000003</td>\n",
       "      <td>1</td>\n",
       "      <td>3</td>\n",
       "      <td>10</td>\n",
       "      <td>3\\nH2 O1\\nO -0.034360 0.977540 0.007602\\nH 0.0...</td>\n",
       "      <td>3\\n\\nO -0.0 0.115838 -0.0\\nH 0.824472 -0.46335...</td>\n",
       "      <td>-76.404702</td>\n",
       "      <td>-76.355852</td>\n",
       "      <td>0.021375</td>\n",
       "      <td>-75.975303</td>\n",
       "      <td>...</td>\n",
       "      <td>-76.426077</td>\n",
       "      <td>-76.437293</td>\n",
       "      <td>-76.440542</td>\n",
       "      <td>-75.956721</td>\n",
       "      <td>-75.893134</td>\n",
       "      <td>0.018582</td>\n",
       "      <td>-76.419167</td>\n",
       "      <td>-76.415918</td>\n",
       "      <td>-75.957305</td>\n",
       "      <td>-75.954312</td>\n",
       "    </tr>\n",
       "    <tr>\n",
       "      <th>3</th>\n",
       "      <td>dsgdb9nsd_000005</td>\n",
       "      <td>2</td>\n",
       "      <td>3</td>\n",
       "      <td>14</td>\n",
       "      <td>3\\nH1 C1 N1\\nC -0.013324 1.132466 0.008276\\nN ...</td>\n",
       "      <td>3\\n\\nC 0.019872 -0.52686 0.0\\nN 0.019872 0.672...</td>\n",
       "      <td>-93.411888</td>\n",
       "      <td>-93.312546</td>\n",
       "      <td>0.016601</td>\n",
       "      <td>-92.938513</td>\n",
       "      <td>...</td>\n",
       "      <td>-93.428489</td>\n",
       "      <td>-93.420228</td>\n",
       "      <td>-93.434353</td>\n",
       "      <td>-92.925709</td>\n",
       "      <td>-92.814499</td>\n",
       "      <td>0.012804</td>\n",
       "      <td>-93.417752</td>\n",
       "      <td>-93.403627</td>\n",
       "      <td>-92.924130</td>\n",
       "      <td>-92.910367</td>\n",
       "    </tr>\n",
       "    <tr>\n",
       "      <th>4</th>\n",
       "      <td>dsgdb9nsd_000006</td>\n",
       "      <td>2</td>\n",
       "      <td>4</td>\n",
       "      <td>16</td>\n",
       "      <td>4\\nH2 C1 O1\\nC -0.013978 1.180211 0.007752\\nO ...</td>\n",
       "      <td>4\\n\\nC 0.0 -0.525843 -0.0\\nO 0.0 0.66622 0.0\\n...</td>\n",
       "      <td>-114.483613</td>\n",
       "      <td>-114.371590</td>\n",
       "      <td>0.026603</td>\n",
       "      <td>-114.118908</td>\n",
       "      <td>...</td>\n",
       "      <td>-114.510216</td>\n",
       "      <td>-114.506165</td>\n",
       "      <td>-114.519856</td>\n",
       "      <td>-114.094926</td>\n",
       "      <td>-113.971387</td>\n",
       "      <td>0.023982</td>\n",
       "      <td>-114.493253</td>\n",
       "      <td>-114.479562</td>\n",
       "      <td>-114.096882</td>\n",
       "      <td>-114.084381</td>\n",
       "    </tr>\n",
       "  </tbody>\n",
       "</table>\n",
       "<p>5 rows × 22 columns</p>\n",
       "</div>"
      ],
      "text/plain": [
       "           filename  n_heavy_atoms  n_atoms  n_electrons  \\\n",
       "0  dsgdb9nsd_000001              1        5           10   \n",
       "1  dsgdb9nsd_000002              1        4           10   \n",
       "2  dsgdb9nsd_000003              1        3           10   \n",
       "3  dsgdb9nsd_000005              2        3           14   \n",
       "4  dsgdb9nsd_000006              2        4           16   \n",
       "\n",
       "                                                 xyz  \\\n",
       "0  5\\nH4 C1\\nC -0.012698 1.085804 0.008001\\nH 0.0...   \n",
       "1  4\\nH3 N1\\nN -0.040426 1.024108 0.062564\\nH 0.0...   \n",
       "2  3\\nH2 O1\\nO -0.034360 0.977540 0.007602\\nH 0.0...   \n",
       "3  3\\nH1 C1 N1\\nC -0.013324 1.132466 0.008276\\nN ...   \n",
       "4  4\\nH2 C1 O1\\nC -0.013978 1.180211 0.007752\\nO ...   \n",
       "\n",
       "                                        xyz_oxidized    u0_b3lyp    u0_g4mp2  \\\n",
       "0  5\\n\\nC -3.6e-05 0.000157 4.4e-05\\nH -1.031842 ...  -40.478930  -40.427662   \n",
       "1  4\\n\\nN 0.0 4.8e-05 0.000313\\nH -0.889576 0.513...  -56.525887  -56.478971   \n",
       "2  3\\n\\nO -0.0 0.115838 -0.0\\nH 0.824472 -0.46335...  -76.404702  -76.355852   \n",
       "3  3\\n\\nC 0.019872 -0.52686 0.0\\nN 0.019872 0.672...  -93.411888  -93.312546   \n",
       "4  4\\n\\nC 0.0 -0.525843 -0.0\\nO 0.0 0.66622 0.0\\n... -114.483613 -114.371590   \n",
       "\n",
       "   zpe_b3lyp  electronic_oxidized_b3lyp         ...          \\\n",
       "0   0.044749                 -40.060622         ...           \n",
       "1   0.034358                 -56.194430         ...           \n",
       "2   0.021375                 -75.975303         ...           \n",
       "3   0.016601                 -92.938513         ...           \n",
       "4   0.026603                -114.118908         ...           \n",
       "\n",
       "   electronic_neutral_b3lyp  electronic_neutral_wB97Xd  \\\n",
       "0                -40.523679                 -40.518353   \n",
       "1                -56.560245                 -56.564755   \n",
       "2                -76.426077                 -76.437293   \n",
       "3                -93.428489                 -93.420228   \n",
       "4               -114.510216                -114.506165   \n",
       "\n",
       "   electronic_neutral_b3lyp_large  u0_oxidized_b3lyp  u0_oxidized_g4mp2  \\\n",
       "0                      -40.526016         -40.024627         -39.959837   \n",
       "1                      -56.568919         -56.161757         -56.104750   \n",
       "2                      -76.440542         -75.956721         -75.893134   \n",
       "3                      -93.434353         -92.925709         -92.814499   \n",
       "4                     -114.519856        -114.094926        -113.971387   \n",
       "\n",
       "   zpe_oxidized_b3lyp  u0_b3lyp_large   u0_wB97Xd  u0_oxidized_b3lyp_large  \\\n",
       "0            0.035995      -40.481268  -40.473604               -40.024679   \n",
       "1            0.032673      -56.534561  -56.530397               -56.161908   \n",
       "2            0.018582      -76.419167  -76.415918               -75.957305   \n",
       "3            0.012804      -93.417752  -93.403627               -92.924130   \n",
       "4            0.023982     -114.493253 -114.479562              -114.096882   \n",
       "\n",
       "   u0_oxidized_wB97Xd  \n",
       "0          -40.016973  \n",
       "1          -56.158444  \n",
       "2          -75.954312  \n",
       "3          -92.910367  \n",
       "4         -114.084381  \n",
       "\n",
       "[5 rows x 22 columns]"
      ]
     },
     "execution_count": 4,
     "metadata": {},
     "output_type": "execute_result"
    }
   ],
   "source": [
    "charged_data.head()"
   ]
  },
  {
   "cell_type": "markdown",
   "metadata": {},
   "source": [
    "Sort it into a reproducible order"
   ]
  },
  {
   "cell_type": "code",
   "execution_count": 5,
   "metadata": {},
   "outputs": [],
   "source": [
    "def get_counts(xyz):\n",
    "    \"\"\"Given the XYZ coordinates of a molecule, compute its size\n",
    "    \n",
    "    Args:\n",
    "        xyz (string): XYZ-format file of the atomic structure\n",
    "    Returns:\n",
    "        (dict) Different measures of molecular size:\n",
    "            n_heavy_atom (int): Number of heavy (i.e., non-Hydrogen) atoms\n",
    "            n_electrons (int): Number of electrons in the system\n",
    "    \"\"\"\n",
    "    \n",
    "    mol = read_xyz(StringIO(xyz)).__next__()\n",
    "    Z = mol.get_atomic_numbers()\n",
    "    return {\n",
    "        'n_atoms': len(Z),\n",
    "        'n_heavy_atoms': (Z > 1).sum(),\n",
    "        'n_electrons': Z.sum(), \n",
    "    }"
   ]
  },
  {
   "cell_type": "code",
   "execution_count": 6,
   "metadata": {},
   "outputs": [],
   "source": [
    "def func(xyz):\n",
    "    \"\"\"Given the XYZ coordinates of a molecule, compute its size\n",
    "    \n",
    "    Args:\n",
    "        xyz (string): XYZ-format file of the atomic structure\n",
    "    Returns:\n",
    "        (dict) Different measures of molecular size:\n",
    "            n_heavy_atom (int): Number of heavy (i.e., non-Hydrogen) atoms\n",
    "            n_electrons (int): Number of electrons in the system\n",
    "    \"\"\"\n",
    "    \n",
    "    mol = pybel.readstring('xyz', xyz)\n",
    "    return mol.write('smi').split(\"\\t\")[0]\n"
   ]
  },
  {
   "cell_type": "code",
   "execution_count": 7,
   "metadata": {},
   "outputs": [],
   "source": [
    "charged_data['smiles'] = charged_data['xyz'].apply(func)"
   ]
  },
  {
   "cell_type": "code",
   "execution_count": 8,
   "metadata": {},
   "outputs": [],
   "source": [
    "charged_data['b3lyp_asc_neutral'] = charged_data.apply(\n",
    "    lambda x: compute_atomization_energy(next(read_xyz(StringIO(x['xyz']))), x['u0_b3lyp'], 'b3lypa_ip_neutral'),\n",
    "    axis=1\n",
    ")\n",
    "\n",
    "charged_data['b3lyp_asc_cation'] = charged_data.apply(\n",
    "    lambda x: compute_atomization_energy(next(read_xyz(StringIO(x['xyz']))), x['u0_oxidized_b3lyp'], 'b3lypa_ip_cation'),\n",
    "    axis=1\n",
    ")"
   ]
  },
  {
   "cell_type": "code",
   "execution_count": 9,
   "metadata": {},
   "outputs": [],
   "source": [
    "charged_data['b3lyp_large_asc_neutral'] = charged_data.apply(\n",
    "    lambda x: compute_atomization_energy(next(read_xyz(StringIO(x['xyz']))), x['u0_b3lyp_large'], 'b3lypa_large_ip_neutral'),\n",
    "    axis=1\n",
    ")\n",
    "\n",
    "charged_data['b3lyp_large_asc_cation'] = charged_data.apply(\n",
    "    lambda x: compute_atomization_energy(next(read_xyz(StringIO(x['xyz']))), x['u0_oxidized_b3lyp_large'], 'b3lypa_large_ip_cation'),\n",
    "    axis=1\n",
    ")"
   ]
  },
  {
   "cell_type": "code",
   "execution_count": 10,
   "metadata": {},
   "outputs": [],
   "source": [
    "charged_data['wB97Xd_asc_neutral'] = charged_data.apply(\n",
    "    lambda x: compute_atomization_energy(next(read_xyz(StringIO(x['xyz']))), x['u0_wB97Xd'], 'wB97Xda_ip_neutral'),\n",
    "    axis=1\n",
    ")\n",
    "\n",
    "charged_data['wB97Xd_asc_cation'] = charged_data.apply(\n",
    "    lambda x: compute_atomization_energy(next(read_xyz(StringIO(x['xyz']))), x['u0_oxidized_wB97Xd'], 'wB97Xda_ip_cation'),\n",
    "    axis=1\n",
    ")"
   ]
  },
  {
   "cell_type": "code",
   "execution_count": 11,
   "metadata": {},
   "outputs": [],
   "source": [
    "charged_data['g4mp2_asc_neutral'] = charged_data.apply(\n",
    "    lambda x: compute_atomization_energy(next(read_xyz(StringIO(x['xyz']))), x['u0_g4mp2'], 'g4mp2a_ip_neutral'),\n",
    "    axis=1\n",
    ")\n",
    "\n",
    "charged_data['g4mp2_asc_cation'] = charged_data.apply(\n",
    "    lambda x: compute_atomization_energy(next(read_xyz(StringIO(x['xyz']))), x['u0_oxidized_g4mp2'], 'g4mp2a_ip_cation'),\n",
    "    axis=1\n",
    ")"
   ]
  },
  {
   "cell_type": "code",
   "execution_count": 12,
   "metadata": {},
   "outputs": [],
   "source": [
    "charged_data['source'] = 'redox_molecules'"
   ]
  },
  {
   "cell_type": "code",
   "execution_count": 13,
   "metadata": {},
   "outputs": [],
   "source": [
    "charged_data['G4MP2_IP'] = (charged_data['u0_oxidized_g4mp2'] \n",
    "                            - charged_data['u0_g4mp2']) * Hartree / eV\n",
    "\n",
    "charged_data['G4MP2_IP_ASC'] = (charged_data['g4mp2_asc_cation'] \n",
    "                                - charged_data['g4mp2_asc_neutral']) * Hartree / eV\n",
    "\n",
    "\n",
    "charged_data['wB97Xd_IP'] = (charged_data['u0_oxidized_wB97Xd'] \n",
    "                                 - charged_data['u0_wB97Xd']) * Hartree / eV\n",
    "\n",
    "charged_data['wB97Xd_IP_ASC'] = (charged_data['wB97Xd_asc_cation'] \n",
    "                                      - charged_data['wB97Xd_asc_neutral']) * Hartree / eV\n",
    "\n",
    "\n",
    "charged_data['B3LYP_IP'] = (charged_data['u0_oxidized_b3lyp'] \n",
    "                                - charged_data['u0_b3lyp']) * Hartree / eV\n",
    "\n",
    "charged_data['B3LYP_IP_ASC'] = (charged_data['b3lyp_asc_cation'] \n",
    "                                    - charged_data['b3lyp_asc_neutral']) * Hartree / eV\n",
    "\n",
    "\n",
    "charged_data['B3LYP_large_IP'] = (charged_data['u0_oxidized_b3lyp_large'] \n",
    "                                - charged_data['u0_b3lyp_large']) * Hartree / eV\n",
    "\n",
    "charged_data['B3LYP_large_IP_ASC'] = (charged_data['b3lyp_large_asc_cation'] \n",
    "                                    - charged_data['b3lyp_large_asc_neutral']) * Hartree / eV\n",
    "\n",
    "\n"
   ]
  },
  {
   "cell_type": "markdown",
   "metadata": {},
   "source": [
    "Sort it into a reproducible order"
   ]
  },
  {
   "cell_type": "code",
   "execution_count": 14,
   "metadata": {},
   "outputs": [],
   "source": [
    "charged_data.sort_values('filename', inplace=True)"
   ]
  },
  {
   "cell_type": "markdown",
   "metadata": {},
   "source": [
    "## Mark a Test Set\n",
    "Just in case we want to do any kind of hold-out test later"
   ]
  },
  {
   "cell_type": "code",
   "execution_count": 15,
   "metadata": {},
   "outputs": [],
   "source": [
    "charged_data['in_holdout'] = False"
   ]
  },
  {
   "cell_type": "code",
   "execution_count": 16,
   "metadata": {},
   "outputs": [],
   "source": [
    "charged_data.loc[charged_data.sample(frac=0.1, random_state=1).index, 'in_holdout'] = True"
   ]
  },
  {
   "cell_type": "markdown",
   "metadata": {},
   "source": [
    "## Save the Data with a Description\n",
    "Use the DLHub SDK to describe this data"
   ]
  },
  {
   "cell_type": "code",
   "execution_count": 17,
   "metadata": {},
   "outputs": [],
   "source": [
    "charged_data.to_json(output_path, 'records', lines=True)"
   ]
  },
  {
   "cell_type": "markdown",
   "metadata": {},
   "source": [
    "Make the description"
   ]
  },
  {
   "cell_type": "code",
   "execution_count": 18,
   "metadata": {},
   "outputs": [],
   "source": [
    "metadata = TabularDataset.create_model(output_path, format='json', read_kwargs={'lines': True})"
   ]
  },
  {
   "cell_type": "code",
   "execution_count": 19,
   "metadata": {},
   "outputs": [
    {
     "data": {
      "text/plain": [
       "<dlhub_sdk.models.datasets.TabularDataset at 0x2addd7c87828>"
      ]
     },
     "execution_count": 19,
     "metadata": {},
     "output_type": "execute_result"
    }
   ],
   "source": [
    "metadata.set_title('IPs of {} GDB9_heavyatoms_charged Molecules'.format(len(charged_data)))\n",
    "metadata.set_name('ip_molecules_3405_paper')"
   ]
  },
  {
   "cell_type": "markdown",
   "metadata": {},
   "source": [
    "TBD: Get other authors from Rajeev"
   ]
  },
  {
   "cell_type": "code",
   "execution_count": 20,
   "metadata": {},
   "outputs": [
    {
     "data": {
      "text/plain": [
       "<dlhub_sdk.models.datasets.TabularDataset at 0x2addd7c87828>"
      ]
     },
     "execution_count": 20,
     "metadata": {},
     "output_type": "execute_result"
    }
   ],
   "source": [
    "metadata.set_authors(['Dandu, Naveen', 'Ward, Logan', 'Assary, Rajeev', 'Narayanan, Badri',  'Curtiss, Larry'],\n",
    "                     [['Argonne National Laboratory']]*5)"
   ]
  },
  {
   "cell_type": "code",
   "execution_count": 21,
   "metadata": {},
   "outputs": [
    {
     "data": {
      "text/plain": [
       "<dlhub_sdk.models.datasets.TabularDataset at 0x2addd7c87828>"
      ]
     },
     "execution_count": 21,
     "metadata": {},
     "output_type": "execute_result"
    }
   ],
   "source": [
    "metadata.annotate_column('filename', 'Filename, which contains the name of the molecule')\n",
    "metadata.annotate_column('source', 'Source of the dataset')"
   ]
  },
  {
   "cell_type": "code",
   "execution_count": 22,
   "metadata": {},
   "outputs": [
    {
     "data": {
      "text/plain": [
       "<dlhub_sdk.models.datasets.TabularDataset at 0x2addd7c87828>"
      ]
     },
     "execution_count": 22,
     "metadata": {},
     "output_type": "execute_result"
    }
   ],
   "source": [
    "metadata.annotate_column('in_holdout', 'Whether the entry is in the test set')"
   ]
  },
  {
   "cell_type": "code",
   "execution_count": 23,
   "metadata": {},
   "outputs": [
    {
     "data": {
      "text/plain": [
       "<dlhub_sdk.models.datasets.TabularDataset at 0x2addd7c87828>"
      ]
     },
     "execution_count": 23,
     "metadata": {},
     "output_type": "execute_result"
    }
   ],
   "source": [
    "metadata.annotate_column('n_atoms', 'Number of atoms')\n",
    "metadata.annotate_column('n_electrons', 'Number of electrons')\n",
    "metadata.annotate_column('n_heavy_atoms', 'Number of non-hydrogen atoms')\n"
   ]
  },
  {
   "cell_type": "code",
   "execution_count": 24,
   "metadata": {},
   "outputs": [
    {
     "data": {
      "text/plain": [
       "<dlhub_sdk.models.datasets.TabularDataset at 0x2addd7c87828>"
      ]
     },
     "execution_count": 24,
     "metadata": {},
     "output_type": "execute_result"
    }
   ],
   "source": [
    "#metadata.annotate_column('smiles_neutral', 'SMILES string after relaxation', data_type='string')\n",
    "metadata.annotate_column('xyz', 'XYZ coordinates after relaxation', data_type='XYZ file')\n",
    "#metadata.annotate_column('smiles_ox', 'SMILES string after relaxation', data_type='string')\n",
    "#metadata.annotate_column('xyz_reduced', 'XYZ coordinates after reduced', data_type='XYZ file')\n"
   ]
  },
  {
   "cell_type": "code",
   "execution_count": 25,
   "metadata": {},
   "outputs": [
    {
     "data": {
      "text/plain": [
       "<dlhub_sdk.models.datasets.TabularDataset at 0x2addd7c87828>"
      ]
     },
     "execution_count": 25,
     "metadata": {},
     "output_type": "execute_result"
    }
   ],
   "source": [
    "metadata.mark_inputs([ 'xyz' ])"
   ]
  },
  {
   "cell_type": "code",
   "execution_count": 26,
   "metadata": {},
   "outputs": [],
   "source": [
    "#assert len(metadata.get_unannotated_columns()) == 0"
   ]
  },
  {
   "cell_type": "code",
   "execution_count": 27,
   "metadata": {},
   "outputs": [],
   "source": [
    "with open(os.path.join(os.path.dirname(output_path),\n",
    "                       '{}_description.json'.format(metadata['dlhub']['name'])), 'w') as fp:\n",
    "    json.dump(metadata.to_dict(), fp, indent=2)"
   ]
  },
  {
   "cell_type": "code",
   "execution_count": 28,
   "metadata": {},
   "outputs": [],
   "source": [
    "charged_data.to_csv('ip_molecules_3405_paper.csv', index=False)"
   ]
  },
  {
   "cell_type": "code",
   "execution_count": null,
   "metadata": {},
   "outputs": [],
   "source": []
  }
 ],
 "metadata": {
  "kernelspec": {
   "display_name": "Python 3",
   "language": "python",
   "name": "python3"
  },
  "language_info": {
   "codemirror_mode": {
    "name": "ipython",
    "version": 3
   },
   "file_extension": ".py",
   "mimetype": "text/x-python",
   "name": "python",
   "nbconvert_exporter": "python",
   "pygments_lexer": "ipython3",
   "version": "3.7.2"
  }
 },
 "nbformat": 4,
 "nbformat_minor": 4
}
