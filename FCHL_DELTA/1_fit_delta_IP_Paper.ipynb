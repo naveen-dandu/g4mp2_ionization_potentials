{
 "cells": [
  {
   "cell_type": "markdown",
   "metadata": {},
   "source": [
    "# Fit REDOX Models\n",
    "Fit models using the FCHL representation that predict the REDOX energy of molecules. "
   ]
  },
  {
   "cell_type": "code",
   "execution_count": 1,
   "metadata": {},
   "outputs": [],
   "source": [
    "%matplotlib inline\n",
    "from matplotlib import pyplot as plt\n",
    "from sklearn.metrics import mean_absolute_error\n",
    "from ase.units import Hartree, eV\n",
    "from time import perf_counter\n",
    "from tqdm import tqdm\n",
    "import pickle as pkl\n",
    "import pandas as pd\n",
    "import numpy as np\n",
    "import gzip\n",
    "import json\n",
    "import pandas as pd\n",
    "import numpy as np\n",
    "import os\n",
    "import scipy as sp\n",
    "import sklearn.metrics as metrics"
   ]
  },
  {
   "cell_type": "markdown",
   "metadata": {},
   "source": [
    "## Load in the Training Data for B3LYP\n",
    "Load the training data, complete with the representations"
   ]
  },
  {
   "cell_type": "code",
   "execution_count": 2,
   "metadata": {},
   "outputs": [],
   "source": [
    "train_data = pd.read_pickle('train_data_deltaIP_g4mp2a_b3lyp.pkl.gz')"
   ]
  },
  {
   "cell_type": "code",
   "execution_count": 3,
   "metadata": {},
   "outputs": [],
   "source": [
    "test_data = pd.read_pickle('test_data_deltaIP_g4mp2a_b3lyp.pkl.gz')"
   ]
  },
  {
   "cell_type": "markdown",
   "metadata": {},
   "source": [
    "## Load in the Model\n",
    "Use the model from the previous calculation"
   ]
  },
  {
   "cell_type": "code",
   "execution_count": 4,
   "metadata": {},
   "outputs": [],
   "source": [
    "with gzip.open('model_deltaIP_g4mp2a_b3lyp.pkl.gz', 'rb') as fp:\n",
    "    model = pkl.load(fp)"
   ]
  },
  {
   "cell_type": "markdown",
   "metadata": {},
   "source": [
    "## Train a Model on cations atomization\n",
    "Train only using the WB97XD results"
   ]
  },
  {
   "cell_type": "code",
   "execution_count": 5,
   "metadata": {},
   "outputs": [
    {
     "name": "stderr",
     "output_type": "stream",
     "text": [
      "100%|██████████| 6/6 [13:23<00:00, 133.94s/it]\n"
     ]
    }
   ],
   "source": [
    "results = []\n",
    "for train_size in tqdm([100, 500, 1000, 1500, 2000, 3000 ]):\n",
    "    # Get some training data\n",
    "    train_subset = train_data.sample(train_size)\n",
    "    \n",
    "    # Train the model\n",
    "    train_time = perf_counter()\n",
    "    model.fit(train_subset['rep'].tolist(), train_subset['deltaIP_g4mp2a_b3lyp'])\n",
    "    train_time = perf_counter() - train_time\n",
    "\n",
    "    # Predict the u0 for the test set\n",
    "    test_time = perf_counter()\n",
    "    pred_b = model.predict(test_data['rep'].tolist())\n",
    "    test_time = perf_counter() - test_time\n",
    "    \n",
    "    results.append({\n",
    "        'train_size': train_size,\n",
    "        'mae': mean_absolute_error(pred_b, test_data['deltaIP_g4mp2a_b3lyp']), \n",
    "        'train_time': train_time, \n",
    "        'test_time': test_time,\n",
    "    })"
   ]
  },
  {
   "cell_type": "code",
   "execution_count": 6,
   "metadata": {},
   "outputs": [
    {
     "data": {
      "text/html": [
       "<div>\n",
       "<style scoped>\n",
       "    .dataframe tbody tr th:only-of-type {\n",
       "        vertical-align: middle;\n",
       "    }\n",
       "\n",
       "    .dataframe tbody tr th {\n",
       "        vertical-align: top;\n",
       "    }\n",
       "\n",
       "    .dataframe thead th {\n",
       "        text-align: right;\n",
       "    }\n",
       "</style>\n",
       "<table border=\"1\" class=\"dataframe\">\n",
       "  <thead>\n",
       "    <tr style=\"text-align: right;\">\n",
       "      <th></th>\n",
       "      <th>mae</th>\n",
       "      <th>test_time</th>\n",
       "      <th>train_size</th>\n",
       "      <th>train_time</th>\n",
       "    </tr>\n",
       "  </thead>\n",
       "  <tbody>\n",
       "    <tr>\n",
       "      <th>0</th>\n",
       "      <td>0.130773</td>\n",
       "      <td>3.377243</td>\n",
       "      <td>100</td>\n",
       "      <td>0.554983</td>\n",
       "    </tr>\n",
       "    <tr>\n",
       "      <th>1</th>\n",
       "      <td>0.092084</td>\n",
       "      <td>12.926402</td>\n",
       "      <td>500</td>\n",
       "      <td>9.022671</td>\n",
       "    </tr>\n",
       "    <tr>\n",
       "      <th>2</th>\n",
       "      <td>0.074808</td>\n",
       "      <td>25.309257</td>\n",
       "      <td>1000</td>\n",
       "      <td>34.920594</td>\n",
       "    </tr>\n",
       "    <tr>\n",
       "      <th>3</th>\n",
       "      <td>0.063161</td>\n",
       "      <td>37.271871</td>\n",
       "      <td>1500</td>\n",
       "      <td>77.507873</td>\n",
       "    </tr>\n",
       "    <tr>\n",
       "      <th>4</th>\n",
       "      <td>0.061586</td>\n",
       "      <td>55.666843</td>\n",
       "      <td>2000</td>\n",
       "      <td>157.274483</td>\n",
       "    </tr>\n",
       "    <tr>\n",
       "      <th>5</th>\n",
       "      <td>0.058040</td>\n",
       "      <td>74.296838</td>\n",
       "      <td>3000</td>\n",
       "      <td>315.457945</td>\n",
       "    </tr>\n",
       "  </tbody>\n",
       "</table>\n",
       "</div>"
      ],
      "text/plain": [
       "        mae  test_time  train_size  train_time\n",
       "0  0.130773   3.377243         100    0.554983\n",
       "1  0.092084  12.926402         500    9.022671\n",
       "2  0.074808  25.309257        1000   34.920594\n",
       "3  0.063161  37.271871        1500   77.507873\n",
       "4  0.061586  55.666843        2000  157.274483\n",
       "5  0.058040  74.296838        3000  315.457945"
      ]
     },
     "execution_count": 6,
     "metadata": {},
     "output_type": "execute_result"
    }
   ],
   "source": [
    "results = pd.DataFrame(results)\n",
    "results"
   ]
  },
  {
   "cell_type": "code",
   "execution_count": 7,
   "metadata": {},
   "outputs": [],
   "source": [
    "with open('deltaIP_g4mp2a_b3lyp.json', 'w') as fp:\n",
    "    json.dump({\n",
    "        'name': 'FCHL',\n",
    "        'description': 'Model built using the FCHL representation, as implemented in QML, and KRR',\n",
    "        'rdox_benchmark': results.to_dict('records')\n",
    "    }, fp, indent=2)"
   ]
  },
  {
   "cell_type": "code",
   "execution_count": 8,
   "metadata": {},
   "outputs": [],
   "source": [
    "with gzip.open('deltaIP_g4mp2a_b3lyp.pkl.gz', 'wb') as fp:\n",
    "    pkl.dump(model, fp)"
   ]
  },
  {
   "cell_type": "code",
   "execution_count": 9,
   "metadata": {},
   "outputs": [],
   "source": [
    "data=pd.DataFrame(data={'filename': test_data['filename'], \n",
    "                        'n_heavy_atoms': test_data['n_heavy_atoms'], \n",
    "                        'xyz': test_data['xyz'], \n",
    "                        'xyz_oxidized': test_data['xyz_oxidized'],\n",
    "                        'deltaIP_g4mp2a_b3lyp': test_data['deltaIP_g4mp2a_b3lyp'], \n",
    "                        'pred_deltaIP_g4mp2a_b3lyp' : pred_b})\n"
   ]
  },
  {
   "cell_type": "code",
   "execution_count": 10,
   "metadata": {},
   "outputs": [],
   "source": [
    "data.to_csv('deltaIP_g4mp2a_b3lyp_fchl_predictions.csv', index=False)"
   ]
  },
  {
   "cell_type": "code",
   "execution_count": 11,
   "metadata": {},
   "outputs": [],
   "source": [
    "data = pd.read_csv('deltaIP_g4mp2a_b3lyp_fchl_predictions.csv')"
   ]
  },
  {
   "cell_type": "code",
   "execution_count": 12,
   "metadata": {},
   "outputs": [
    {
     "data": {
      "image/png": "[encoded data removed]",
      "text/plain": [
       "<Figure size 640x640 with 1 Axes>"
      ]
     },
     "metadata": {
      "needs_background": "light"
     },
     "output_type": "display_data"
    }
   ],
   "source": [
    "#fig, ax = plt.subplots()\n",
    "\n",
    "w = 8\n",
    "h = 8\n",
    "d = 80\n",
    "plt.figure(figsize=(w, h), dpi=d)\n",
    "\n",
    "data = pd.read_csv('deltaIP_g4mp2a_b3lyp_fchl_predictions.csv')\n",
    "#figure(num=None, figsize=(8, 8), dpi=80, facecolor='w', edgecolor='k')\n",
    "\n",
    "x = data['deltaIP_g4mp2a_b3lyp']\n",
    "y = data['pred_deltaIP_g4mp2a_b3lyp']\n",
    "z = np.polyfit(x, y, 1)\n",
    "plt.scatter(x, y)\n",
    "p = np.poly1d(z)\n",
    "plt.plot(x,p(x),\"r--\")\n",
    "plt.xlim(-0.5, 1.5)\n",
    "plt.ylim(-0.5, 1.5)\n",
    "plt.xticks(fontsize=14)\n",
    "plt.yticks(fontsize=14)\n",
    "plt.title('G4MP2-A minus B3LYP/6-31G(2df,p)', fontsize=18)\n",
    "plt.xlabel('DFT Calculated ∆_IP [eV]', fontsize=18)\n",
    "plt.ylabel('FCHL-∆ Predicted ∆_IP [eV]', fontsize=18)\n",
    "#plt.plot(data[\"G4MP2_IP\"], data[\"pred_y_300-g4mp2\"], \"o\")\n",
    "plt.savefig(\"deltaIP_g4mp2a_b3lyp.png\")\n",
    "plt.show()\n"
   ]
  },
  {
   "cell_type": "code",
   "execution_count": 13,
   "metadata": {},
   "outputs": [
    {
     "name": "stdout",
     "output_type": "stream",
     "text": [
      "Results of sklearn.metrics:\n",
      "MAE: 0.05803961192230455\n",
      "MSE: 0.006805282132839929\n",
      "RMSE: 0.08249413392987363\n",
      "R-Squared: 0.668800397737339\n"
     ]
    }
   ],
   "source": [
    "data = pd.read_csv('deltaIP_g4mp2a_b3lyp_fchl_predictions.csv')\n",
    "\n",
    "y = data['deltaIP_g4mp2a_b3lyp']\n",
    "yhat = data['pred_deltaIP_g4mp2a_b3lyp']\n",
    "\n",
    "mae = metrics.mean_absolute_error(y, yhat)\n",
    "mse = metrics.mean_squared_error(y, yhat)\n",
    "rmse = np.sqrt(mse) # or mse**(0.5)  \n",
    "r2 = metrics.r2_score(y,yhat)\n",
    "\n",
    "print(\"Results of sklearn.metrics:\")\n",
    "print(\"MAE:\",mae)\n",
    "print(\"MSE:\", mse)\n",
    "print(\"RMSE:\", rmse)\n",
    "print(\"R-Squared:\", r2)\n"
   ]
  },
  {
   "cell_type": "code",
   "execution_count": null,
   "metadata": {},
   "outputs": [],
   "source": []
  },
  {
   "cell_type": "markdown",
   "metadata": {},
   "source": [
    "## Load in the Training Data for B3LYP-A\n",
    "Load the training data, complete with the representations"
   ]
  },
  {
   "cell_type": "code",
   "execution_count": 14,
   "metadata": {},
   "outputs": [],
   "source": [
    "train_data = pd.read_pickle('train_data_deltaIP_g4mp2a_b3lypa.pkl.gz')"
   ]
  },
  {
   "cell_type": "code",
   "execution_count": 15,
   "metadata": {},
   "outputs": [],
   "source": [
    "test_data = pd.read_pickle('test_data_deltaIP_g4mp2a_b3lypa.pkl.gz')"
   ]
  },
  {
   "cell_type": "markdown",
   "metadata": {},
   "source": [
    "## Load in the Model\n",
    "Use the model from the previous calculation"
   ]
  },
  {
   "cell_type": "code",
   "execution_count": 16,
   "metadata": {},
   "outputs": [],
   "source": [
    "with gzip.open('model_deltaIP_g4mp2a_b3lypa.pkl.gz', 'rb') as fp:\n",
    "    model = pkl.load(fp)"
   ]
  },
  {
   "cell_type": "markdown",
   "metadata": {},
   "source": [
    "## Train a Model on cations atomization\n",
    "Train only using the WB97XD results"
   ]
  },
  {
   "cell_type": "code",
   "execution_count": 17,
   "metadata": {},
   "outputs": [
    {
     "name": "stderr",
     "output_type": "stream",
     "text": [
      "  0%|          | 0/6 [00:00<?, ?it/s]/home/ndandu/.conda/envs/jcesr_ml/lib/python3.7/site-packages/sklearn/linear_model/ridge.py:125: LinAlgWarning: Ill-conditioned matrix (rcond=1.87251e-18): result may not be accurate.\n",
      "  overwrite_a=True).T\n",
      "100%|██████████| 6/6 [13:20<00:00, 133.45s/it]\n"
     ]
    }
   ],
   "source": [
    "results = []\n",
    "for train_size in tqdm([100, 500, 1000, 1500, 2000, 3000 ]):\n",
    "    # Get some training data\n",
    "    train_subset = train_data.sample(train_size)\n",
    "    \n",
    "    # Train the model\n",
    "    train_time = perf_counter()\n",
    "    model.fit(train_subset['rep'].tolist(), train_subset['deltaIP_g4mp2a_b3lypa'])\n",
    "    train_time = perf_counter() - train_time\n",
    "\n",
    "    # Predict the u0 for the test set\n",
    "    test_time = perf_counter()\n",
    "    pred_ba = model.predict(test_data['rep'].tolist())\n",
    "    test_time = perf_counter() - test_time\n",
    "    \n",
    "    results.append({\n",
    "        'train_size': train_size,\n",
    "        'mae': mean_absolute_error(pred_ba, test_data['deltaIP_g4mp2a_b3lypa']), \n",
    "        'train_time': train_time, \n",
    "        'test_time': test_time,\n",
    "    })"
   ]
  },
  {
   "cell_type": "code",
   "execution_count": 18,
   "metadata": {},
   "outputs": [
    {
     "data": {
      "text/html": [
       "<div>\n",
       "<style scoped>\n",
       "    .dataframe tbody tr th:only-of-type {\n",
       "        vertical-align: middle;\n",
       "    }\n",
       "\n",
       "    .dataframe tbody tr th {\n",
       "        vertical-align: top;\n",
       "    }\n",
       "\n",
       "    .dataframe thead th {\n",
       "        text-align: right;\n",
       "    }\n",
       "</style>\n",
       "<table border=\"1\" class=\"dataframe\">\n",
       "  <thead>\n",
       "    <tr style=\"text-align: right;\">\n",
       "      <th></th>\n",
       "      <th>mae</th>\n",
       "      <th>test_time</th>\n",
       "      <th>train_size</th>\n",
       "      <th>train_time</th>\n",
       "    </tr>\n",
       "  </thead>\n",
       "  <tbody>\n",
       "    <tr>\n",
       "      <th>0</th>\n",
       "      <td>0.116709</td>\n",
       "      <td>3.483021</td>\n",
       "      <td>100</td>\n",
       "      <td>0.530714</td>\n",
       "    </tr>\n",
       "    <tr>\n",
       "      <th>1</th>\n",
       "      <td>0.085424</td>\n",
       "      <td>12.912441</td>\n",
       "      <td>500</td>\n",
       "      <td>8.879245</td>\n",
       "    </tr>\n",
       "    <tr>\n",
       "      <th>2</th>\n",
       "      <td>0.073988</td>\n",
       "      <td>24.598636</td>\n",
       "      <td>1000</td>\n",
       "      <td>33.427802</td>\n",
       "    </tr>\n",
       "    <tr>\n",
       "      <th>3</th>\n",
       "      <td>0.066215</td>\n",
       "      <td>37.169316</td>\n",
       "      <td>1500</td>\n",
       "      <td>75.746865</td>\n",
       "    </tr>\n",
       "    <tr>\n",
       "      <th>4</th>\n",
       "      <td>0.064325</td>\n",
       "      <td>56.183827</td>\n",
       "      <td>2000</td>\n",
       "      <td>157.554055</td>\n",
       "    </tr>\n",
       "    <tr>\n",
       "      <th>5</th>\n",
       "      <td>0.059015</td>\n",
       "      <td>74.875581</td>\n",
       "      <td>3000</td>\n",
       "      <td>315.302030</td>\n",
       "    </tr>\n",
       "  </tbody>\n",
       "</table>\n",
       "</div>"
      ],
      "text/plain": [
       "        mae  test_time  train_size  train_time\n",
       "0  0.116709   3.483021         100    0.530714\n",
       "1  0.085424  12.912441         500    8.879245\n",
       "2  0.073988  24.598636        1000   33.427802\n",
       "3  0.066215  37.169316        1500   75.746865\n",
       "4  0.064325  56.183827        2000  157.554055\n",
       "5  0.059015  74.875581        3000  315.302030"
      ]
     },
     "execution_count": 18,
     "metadata": {},
     "output_type": "execute_result"
    }
   ],
   "source": [
    "results = pd.DataFrame(results)\n",
    "results"
   ]
  },
  {
   "cell_type": "code",
   "execution_count": 19,
   "metadata": {},
   "outputs": [],
   "source": [
    "with open('deltaIP_g4mp2a_b3lypa.json', 'w') as fp:\n",
    "    json.dump({\n",
    "        'name': 'FCHL',\n",
    "        'description': 'Model built using the FCHL representation, as implemented in QML, and KRR',\n",
    "        'rdox_benchmark': results.to_dict('records')\n",
    "    }, fp, indent=2)"
   ]
  },
  {
   "cell_type": "code",
   "execution_count": 20,
   "metadata": {},
   "outputs": [],
   "source": [
    "with gzip.open('deltaIP_g4mp2a_b3lypa.pkl.gz', 'wb') as fp:\n",
    "    pkl.dump(model, fp)"
   ]
  },
  {
   "cell_type": "code",
   "execution_count": 21,
   "metadata": {},
   "outputs": [],
   "source": [
    "data=pd.DataFrame(data={'filename': test_data['filename'], \n",
    "                        'n_heavy_atoms': test_data['n_heavy_atoms'], \n",
    "                        'xyz': test_data['xyz'], \n",
    "                        'xyz_oxidized': test_data['xyz_oxidized'],\n",
    "                        'deltaIP_g4mp2a_b3lypa': test_data['deltaIP_g4mp2a_b3lypa'], \n",
    "                        'pred_deltaIP_g4mp2a_b3lypa' : pred_ba})\n"
   ]
  },
  {
   "cell_type": "code",
   "execution_count": 22,
   "metadata": {},
   "outputs": [],
   "source": [
    "data.to_csv('deltaIP_g4mp2a_b3lypa_fchl_predictions.csv', index=False)"
   ]
  },
  {
   "cell_type": "code",
   "execution_count": 23,
   "metadata": {},
   "outputs": [],
   "source": [
    "data = pd.read_csv('deltaIP_g4mp2a_b3lypa_fchl_predictions.csv')"
   ]
  },
  {
   "cell_type": "code",
   "execution_count": 24,
   "metadata": {},
   "outputs": [
    {
     "data": {
      "image/png": "[encoded data removed]",
      "text/plain": [
       "<Figure size 640x640 with 1 Axes>"
      ]
     },
     "metadata": {
      "needs_background": "light"
     },
     "output_type": "display_data"
    }
   ],
   "source": [
    "#fig, ax = plt.subplots()\n",
    "\n",
    "w = 8\n",
    "h = 8\n",
    "d = 80\n",
    "plt.figure(figsize=(w, h), dpi=d)\n",
    "\n",
    "data = pd.read_csv('deltaIP_g4mp2a_b3lypa_fchl_predictions.csv')\n",
    "#figure(num=None, figsize=(8, 8), dpi=80, facecolor='w', edgecolor='k')\n",
    "\n",
    "x = data['deltaIP_g4mp2a_b3lypa']\n",
    "y = data['pred_deltaIP_g4mp2a_b3lypa']\n",
    "z = np.polyfit(x, y, 1)\n",
    "plt.scatter(x, y)\n",
    "p = np.poly1d(z)\n",
    "plt.plot(x,p(x),\"r--\")\n",
    "plt.xlim(-2.0, 1.5)\n",
    "plt.ylim(-2.0, 1.5)\n",
    "plt.xticks(fontsize=14)\n",
    "plt.yticks(fontsize=14)\n",
    "plt.title('G4MP2-A minus B3LYP-A/6-31G(2df,p)', fontsize=18)\n",
    "plt.xlabel('DFT Calculated ∆_IP [eV]', fontsize=18)\n",
    "plt.ylabel('FCHL-∆ Predicted ∆_IP [eV]', fontsize=18)\n",
    "#plt.plot(data[\"G4MP2_IP\"], data[\"pred_y_300-g4mp2\"], \"o\")\n",
    "plt.savefig(\"deltaIP_g4mp2a_b3lypa.png\")\n",
    "plt.show()\n"
   ]
  },
  {
   "cell_type": "code",
   "execution_count": 25,
   "metadata": {},
   "outputs": [
    {
     "name": "stdout",
     "output_type": "stream",
     "text": [
      "Results of sklearn.metrics:\n",
      "MAE: 0.05901515281417332\n",
      "MSE: 0.007030174420939982\n",
      "RMSE: 0.0838461353965702\n",
      "R-Squared: 0.9256971096969048\n"
     ]
    }
   ],
   "source": [
    "data = pd.read_csv('deltaIP_g4mp2a_b3lypa_fchl_predictions.csv')\n",
    "\n",
    "y = data['deltaIP_g4mp2a_b3lypa']\n",
    "yhat = data['pred_deltaIP_g4mp2a_b3lypa']\n",
    "\n",
    "mae = metrics.mean_absolute_error(y, yhat)\n",
    "mse = metrics.mean_squared_error(y, yhat)\n",
    "rmse = np.sqrt(mse) # or mse**(0.5)  \n",
    "r2 = metrics.r2_score(y,yhat)\n",
    "\n",
    "print(\"Results of sklearn.metrics:\")\n",
    "print(\"MAE:\",mae)\n",
    "print(\"MSE:\", mse)\n",
    "print(\"RMSE:\", rmse)\n",
    "print(\"R-Squared:\", r2)\n"
   ]
  },
  {
   "cell_type": "code",
   "execution_count": null,
   "metadata": {},
   "outputs": [],
   "source": []
  },
  {
   "cell_type": "code",
   "execution_count": null,
   "metadata": {},
   "outputs": [],
   "source": []
  },
  {
   "cell_type": "markdown",
   "metadata": {},
   "source": [
    "## Load in the Training Data for B3LYP_L\n",
    "Load the training data, complete with the representations"
   ]
  },
  {
   "cell_type": "code",
   "execution_count": 26,
   "metadata": {},
   "outputs": [],
   "source": [
    "train_data = pd.read_pickle('train_data_deltaIP_g4mp2a_b3lypL.pkl.gz')"
   ]
  },
  {
   "cell_type": "code",
   "execution_count": 27,
   "metadata": {},
   "outputs": [],
   "source": [
    "test_data = pd.read_pickle('test_data_deltaIP_g4mp2a_b3lypL.pkl.gz')"
   ]
  },
  {
   "cell_type": "markdown",
   "metadata": {},
   "source": [
    "## Load in the Model\n",
    "Use the model from the previous calculation"
   ]
  },
  {
   "cell_type": "code",
   "execution_count": 28,
   "metadata": {},
   "outputs": [],
   "source": [
    "with gzip.open('model_deltaIP_g4mp2a_b3lypL.pkl.gz', 'rb') as fp:\n",
    "    model = pkl.load(fp)"
   ]
  },
  {
   "cell_type": "markdown",
   "metadata": {},
   "source": [
    "## Train a Model on cations atomization\n",
    "Train only using the WB97XD results"
   ]
  },
  {
   "cell_type": "code",
   "execution_count": 29,
   "metadata": {},
   "outputs": [
    {
     "name": "stderr",
     "output_type": "stream",
     "text": [
      "  0%|          | 0/6 [00:00<?, ?it/s]/home/ndandu/.conda/envs/jcesr_ml/lib/python3.7/site-packages/sklearn/linear_model/ridge.py:125: LinAlgWarning: Ill-conditioned matrix (rcond=3.2325e-18): result may not be accurate.\n",
      "  overwrite_a=True).T\n",
      "100%|██████████| 6/6 [13:24<00:00, 134.04s/it]\n"
     ]
    }
   ],
   "source": [
    "results = []\n",
    "for train_size in tqdm([100, 500, 1000, 1500, 2000, 3000 ]):\n",
    "    # Get some training data\n",
    "    train_subset = train_data.sample(train_size)\n",
    "    \n",
    "    # Train the model\n",
    "    train_time = perf_counter()\n",
    "    model.fit(train_subset['rep'].tolist(), train_subset['deltaIP_g4mp2a_b3lypL'])\n",
    "    train_time = perf_counter() - train_time\n",
    "\n",
    "    # Predict the u0 for the test set\n",
    "    test_time = perf_counter()\n",
    "    pred_bL = model.predict(test_data['rep'].tolist())\n",
    "    test_time = perf_counter() - test_time\n",
    "    \n",
    "    results.append({\n",
    "        'train_size': train_size,\n",
    "        'mae': mean_absolute_error(pred_bL, test_data['deltaIP_g4mp2a_b3lypL']), \n",
    "        'train_time': train_time, \n",
    "        'test_time': test_time,\n",
    "    })"
   ]
  },
  {
   "cell_type": "code",
   "execution_count": 30,
   "metadata": {},
   "outputs": [
    {
     "data": {
      "text/html": [
       "<div>\n",
       "<style scoped>\n",
       "    .dataframe tbody tr th:only-of-type {\n",
       "        vertical-align: middle;\n",
       "    }\n",
       "\n",
       "    .dataframe tbody tr th {\n",
       "        vertical-align: top;\n",
       "    }\n",
       "\n",
       "    .dataframe thead th {\n",
       "        text-align: right;\n",
       "    }\n",
       "</style>\n",
       "<table border=\"1\" class=\"dataframe\">\n",
       "  <thead>\n",
       "    <tr style=\"text-align: right;\">\n",
       "      <th></th>\n",
       "      <th>mae</th>\n",
       "      <th>test_time</th>\n",
       "      <th>train_size</th>\n",
       "      <th>train_time</th>\n",
       "    </tr>\n",
       "  </thead>\n",
       "  <tbody>\n",
       "    <tr>\n",
       "      <th>0</th>\n",
       "      <td>0.167831</td>\n",
       "      <td>3.438118</td>\n",
       "      <td>100</td>\n",
       "      <td>0.508664</td>\n",
       "    </tr>\n",
       "    <tr>\n",
       "      <th>1</th>\n",
       "      <td>0.088887</td>\n",
       "      <td>12.867525</td>\n",
       "      <td>500</td>\n",
       "      <td>8.727046</td>\n",
       "    </tr>\n",
       "    <tr>\n",
       "      <th>2</th>\n",
       "      <td>0.073034</td>\n",
       "      <td>25.131585</td>\n",
       "      <td>1000</td>\n",
       "      <td>34.732709</td>\n",
       "    </tr>\n",
       "    <tr>\n",
       "      <th>3</th>\n",
       "      <td>0.071901</td>\n",
       "      <td>38.159237</td>\n",
       "      <td>1500</td>\n",
       "      <td>79.369376</td>\n",
       "    </tr>\n",
       "    <tr>\n",
       "      <th>4</th>\n",
       "      <td>0.064622</td>\n",
       "      <td>55.713093</td>\n",
       "      <td>2000</td>\n",
       "      <td>155.612369</td>\n",
       "    </tr>\n",
       "    <tr>\n",
       "      <th>5</th>\n",
       "      <td>0.059555</td>\n",
       "      <td>74.797710</td>\n",
       "      <td>3000</td>\n",
       "      <td>315.136393</td>\n",
       "    </tr>\n",
       "  </tbody>\n",
       "</table>\n",
       "</div>"
      ],
      "text/plain": [
       "        mae  test_time  train_size  train_time\n",
       "0  0.167831   3.438118         100    0.508664\n",
       "1  0.088887  12.867525         500    8.727046\n",
       "2  0.073034  25.131585        1000   34.732709\n",
       "3  0.071901  38.159237        1500   79.369376\n",
       "4  0.064622  55.713093        2000  155.612369\n",
       "5  0.059555  74.797710        3000  315.136393"
      ]
     },
     "execution_count": 30,
     "metadata": {},
     "output_type": "execute_result"
    }
   ],
   "source": [
    "results = pd.DataFrame(results)\n",
    "results"
   ]
  },
  {
   "cell_type": "code",
   "execution_count": 31,
   "metadata": {},
   "outputs": [],
   "source": [
    "with open('deltaIP_g4mp2a_b3lypL.json', 'w') as fp:\n",
    "    json.dump({\n",
    "        'name': 'FCHL',\n",
    "        'description': 'Model built using the FCHL representation, as implemented in QML, and KRR',\n",
    "        'rdox_benchmark': results.to_dict('records')\n",
    "    }, fp, indent=2)"
   ]
  },
  {
   "cell_type": "code",
   "execution_count": 32,
   "metadata": {},
   "outputs": [],
   "source": [
    "with gzip.open('deltaIP_g4mp2a_b3lypL.pkl.gz', 'wb') as fp:\n",
    "    pkl.dump(model, fp)"
   ]
  },
  {
   "cell_type": "code",
   "execution_count": 33,
   "metadata": {},
   "outputs": [],
   "source": [
    "data=pd.DataFrame(data={'filename': test_data['filename'], \n",
    "                        'n_heavy_atoms': test_data['n_heavy_atoms'], \n",
    "                        'xyz': test_data['xyz'], \n",
    "                        'xyz_oxidized': test_data['xyz_oxidized'],\n",
    "                        'deltaIP_g4mp2a_b3lypL': test_data['deltaIP_g4mp2a_b3lypL'], \n",
    "                        'pred_deltaIP_g4mp2a_b3lypL' : pred_bL})\n"
   ]
  },
  {
   "cell_type": "code",
   "execution_count": 34,
   "metadata": {},
   "outputs": [],
   "source": [
    "data.to_csv('deltaIP_g4mp2a_b3lypL_fchl_predictions.csv', index=False)"
   ]
  },
  {
   "cell_type": "code",
   "execution_count": 35,
   "metadata": {},
   "outputs": [],
   "source": [
    "data = pd.read_csv('deltaIP_g4mp2a_b3lypL_fchl_predictions.csv')"
   ]
  },
  {
   "cell_type": "code",
   "execution_count": 36,
   "metadata": {},
   "outputs": [
    {
     "data": {
      "image/png": "[encoded data removed]",
      "text/plain": [
       "<Figure size 640x640 with 1 Axes>"
      ]
     },
     "metadata": {
      "needs_background": "light"
     },
     "output_type": "display_data"
    }
   ],
   "source": [
    "#fig, ax = plt.subplots()\n",
    "\n",
    "w = 8\n",
    "h = 8\n",
    "d = 80\n",
    "plt.figure(figsize=(w, h), dpi=d)\n",
    "\n",
    "data = pd.read_csv('deltaIP_g4mp2a_b3lypL_fchl_predictions.csv')\n",
    "#figure(num=None, figsize=(8, 8), dpi=80, facecolor='w', edgecolor='k')\n",
    "\n",
    "x = data['deltaIP_g4mp2a_b3lypL']\n",
    "y = data['pred_deltaIP_g4mp2a_b3lypL']\n",
    "z = np.polyfit(x, y, 1)\n",
    "plt.scatter(x, y)\n",
    "p = np.poly1d(z)\n",
    "plt.plot(x,p(x),\"r--\")\n",
    "plt.xlim(-0.5, 1.5)\n",
    "plt.ylim(-0.5, 1.5)\n",
    "plt.xticks(fontsize=14)\n",
    "plt.yticks(fontsize=14)\n",
    "plt.title('G4MP2-A minus B3LYP/6-31+G(2df,p)', fontsize=18)\n",
    "plt.xlabel('DFT Calculated ∆_IP [eV]', fontsize=18)\n",
    "plt.ylabel('FCHL-∆ Predicted ∆_IP [eV]', fontsize=18)\n",
    "#plt.plot(data[\"G4MP2_IP\"], data[\"pred_y_300-g4mp2\"], \"o\")\n",
    "plt.savefig(\"deltaIP_g4mp2a_b3lypL.png\")\n",
    "plt.show()\n"
   ]
  },
  {
   "cell_type": "code",
   "execution_count": 37,
   "metadata": {},
   "outputs": [
    {
     "name": "stdout",
     "output_type": "stream",
     "text": [
      "Results of sklearn.metrics:\n",
      "MAE: 0.05955536278629577\n",
      "MSE: 0.00751462125145193\n",
      "RMSE: 0.08668691511094354\n",
      "R-Squared: 0.6160987848608795\n"
     ]
    }
   ],
   "source": [
    "data = pd.read_csv('deltaIP_g4mp2a_b3lypL_fchl_predictions.csv')\n",
    "\n",
    "y = data['deltaIP_g4mp2a_b3lypL']\n",
    "yhat = data['pred_deltaIP_g4mp2a_b3lypL']\n",
    "\n",
    "mae = metrics.mean_absolute_error(y, yhat)\n",
    "mse = metrics.mean_squared_error(y, yhat)\n",
    "rmse = np.sqrt(mse) # or mse**(0.5)  \n",
    "r2 = metrics.r2_score(y,yhat)\n",
    "\n",
    "print(\"Results of sklearn.metrics:\")\n",
    "print(\"MAE:\",mae)\n",
    "print(\"MSE:\", mse)\n",
    "print(\"RMSE:\", rmse)\n",
    "print(\"R-Squared:\", r2)\n"
   ]
  },
  {
   "cell_type": "code",
   "execution_count": null,
   "metadata": {},
   "outputs": [],
   "source": []
  },
  {
   "cell_type": "markdown",
   "metadata": {},
   "source": [
    "## Load in the Training Data for B3LYP-A\n",
    "Load the training data, complete with the representations"
   ]
  },
  {
   "cell_type": "code",
   "execution_count": 38,
   "metadata": {},
   "outputs": [],
   "source": [
    "train_data = pd.read_pickle('train_data_deltaIP_g4mp2a_b3lypLa.pkl.gz')"
   ]
  },
  {
   "cell_type": "code",
   "execution_count": 39,
   "metadata": {},
   "outputs": [],
   "source": [
    "test_data = pd.read_pickle('test_data_deltaIP_g4mp2a_b3lypLa.pkl.gz')"
   ]
  },
  {
   "cell_type": "markdown",
   "metadata": {},
   "source": [
    "## Load in the Model\n",
    "Use the model from the previous calculation"
   ]
  },
  {
   "cell_type": "code",
   "execution_count": 40,
   "metadata": {},
   "outputs": [],
   "source": [
    "with gzip.open('model_deltaIP_g4mp2a_b3lypLa.pkl.gz', 'rb') as fp:\n",
    "    model = pkl.load(fp)"
   ]
  },
  {
   "cell_type": "markdown",
   "metadata": {},
   "source": [
    "## Train a Model on cations atomization\n",
    "Train only using the WB97XD results"
   ]
  },
  {
   "cell_type": "code",
   "execution_count": 41,
   "metadata": {},
   "outputs": [
    {
     "name": "stderr",
     "output_type": "stream",
     "text": [
      "100%|██████████| 6/6 [13:19<00:00, 133.23s/it]\n"
     ]
    }
   ],
   "source": [
    "results = []\n",
    "for train_size in tqdm([100, 500, 1000, 1500, 2000, 3000 ]):\n",
    "    # Get some training data\n",
    "    train_subset = train_data.sample(train_size)\n",
    "    \n",
    "    # Train the model\n",
    "    train_time = perf_counter()\n",
    "    model.fit(train_subset['rep'].tolist(), train_subset['deltaIP_g4mp2a_b3lypLa'])\n",
    "    train_time = perf_counter() - train_time\n",
    "\n",
    "    # Predict the u0 for the test set\n",
    "    test_time = perf_counter()\n",
    "    pred_bLa = model.predict(test_data['rep'].tolist())\n",
    "    test_time = perf_counter() - test_time\n",
    "    \n",
    "    results.append({\n",
    "        'train_size': train_size,\n",
    "        'mae': mean_absolute_error(pred_bLa, test_data['deltaIP_g4mp2a_b3lypLa']), \n",
    "        'train_time': train_time, \n",
    "        'test_time': test_time,\n",
    "    })"
   ]
  },
  {
   "cell_type": "code",
   "execution_count": 42,
   "metadata": {},
   "outputs": [
    {
     "data": {
      "text/html": [
       "<div>\n",
       "<style scoped>\n",
       "    .dataframe tbody tr th:only-of-type {\n",
       "        vertical-align: middle;\n",
       "    }\n",
       "\n",
       "    .dataframe tbody tr th {\n",
       "        vertical-align: top;\n",
       "    }\n",
       "\n",
       "    .dataframe thead th {\n",
       "        text-align: right;\n",
       "    }\n",
       "</style>\n",
       "<table border=\"1\" class=\"dataframe\">\n",
       "  <thead>\n",
       "    <tr style=\"text-align: right;\">\n",
       "      <th></th>\n",
       "      <th>mae</th>\n",
       "      <th>test_time</th>\n",
       "      <th>train_size</th>\n",
       "      <th>train_time</th>\n",
       "    </tr>\n",
       "  </thead>\n",
       "  <tbody>\n",
       "    <tr>\n",
       "      <th>0</th>\n",
       "      <td>0.130708</td>\n",
       "      <td>3.486198</td>\n",
       "      <td>100</td>\n",
       "      <td>0.490036</td>\n",
       "    </tr>\n",
       "    <tr>\n",
       "      <th>1</th>\n",
       "      <td>0.090402</td>\n",
       "      <td>13.297170</td>\n",
       "      <td>500</td>\n",
       "      <td>9.321483</td>\n",
       "    </tr>\n",
       "    <tr>\n",
       "      <th>2</th>\n",
       "      <td>0.075054</td>\n",
       "      <td>24.573602</td>\n",
       "      <td>1000</td>\n",
       "      <td>33.672975</td>\n",
       "    </tr>\n",
       "    <tr>\n",
       "      <th>3</th>\n",
       "      <td>0.066198</td>\n",
       "      <td>37.310421</td>\n",
       "      <td>1500</td>\n",
       "      <td>77.406757</td>\n",
       "    </tr>\n",
       "    <tr>\n",
       "      <th>4</th>\n",
       "      <td>0.062902</td>\n",
       "      <td>55.592760</td>\n",
       "      <td>2000</td>\n",
       "      <td>155.336032</td>\n",
       "    </tr>\n",
       "    <tr>\n",
       "      <th>5</th>\n",
       "      <td>0.059632</td>\n",
       "      <td>74.653957</td>\n",
       "      <td>3000</td>\n",
       "      <td>314.209454</td>\n",
       "    </tr>\n",
       "  </tbody>\n",
       "</table>\n",
       "</div>"
      ],
      "text/plain": [
       "        mae  test_time  train_size  train_time\n",
       "0  0.130708   3.486198         100    0.490036\n",
       "1  0.090402  13.297170         500    9.321483\n",
       "2  0.075054  24.573602        1000   33.672975\n",
       "3  0.066198  37.310421        1500   77.406757\n",
       "4  0.062902  55.592760        2000  155.336032\n",
       "5  0.059632  74.653957        3000  314.209454"
      ]
     },
     "execution_count": 42,
     "metadata": {},
     "output_type": "execute_result"
    }
   ],
   "source": [
    "results = pd.DataFrame(results)\n",
    "results"
   ]
  },
  {
   "cell_type": "code",
   "execution_count": 43,
   "metadata": {},
   "outputs": [],
   "source": [
    "with open('deltaIP_g4mp2a_b3lypLa.json', 'w') as fp:\n",
    "    json.dump({\n",
    "        'name': 'FCHL',\n",
    "        'description': 'Model built using the FCHL representation, as implemented in QML, and KRR',\n",
    "        'rdox_benchmark': results.to_dict('records')\n",
    "    }, fp, indent=2)"
   ]
  },
  {
   "cell_type": "code",
   "execution_count": 44,
   "metadata": {},
   "outputs": [],
   "source": [
    "with gzip.open('deltaIP_g4mp2a_b3lypLa.pkl.gz', 'wb') as fp:\n",
    "    pkl.dump(model, fp)"
   ]
  },
  {
   "cell_type": "code",
   "execution_count": 45,
   "metadata": {},
   "outputs": [],
   "source": [
    "data=pd.DataFrame(data={'filename': test_data['filename'], \n",
    "                        'n_heavy_atoms': test_data['n_heavy_atoms'], \n",
    "                        'xyz': test_data['xyz'], \n",
    "                        'xyz_oxidized': test_data['xyz_oxidized'],\n",
    "                        'deltaIP_g4mp2a_b3lypLa': test_data['deltaIP_g4mp2a_b3lypLa'], \n",
    "                        'pred_deltaIP_g4mp2a_b3lypLa' : pred_bLa})\n"
   ]
  },
  {
   "cell_type": "code",
   "execution_count": 46,
   "metadata": {},
   "outputs": [],
   "source": [
    "data.to_csv('deltaIP_g4mp2a_b3lypLa_fchl_predictions.csv', index=False)"
   ]
  },
  {
   "cell_type": "code",
   "execution_count": 2,
   "metadata": {},
   "outputs": [],
   "source": [
    "data = pd.read_csv('deltaIP_g4mp2a_b3lypLa_fchl_predictions.csv')"
   ]
  },
  {
   "cell_type": "code",
   "execution_count": 3,
   "metadata": {},
   "outputs": [
    {
     "data": {
      "image/png": "[encoded data removed]",
      "text/plain": [
       "<Figure size 640x640 with 1 Axes>"
      ]
     },
     "metadata": {
      "needs_background": "light"
     },
     "output_type": "display_data"
    }
   ],
   "source": [
    "#fig, ax = plt.subplots()\n",
    "\n",
    "w = 8\n",
    "h = 8\n",
    "d = 80\n",
    "plt.figure(figsize=(w, h), dpi=d)\n",
    "\n",
    "data = pd.read_csv('deltaIP_g4mp2a_b3lypLa_fchl_predictions.csv')\n",
    "#figure(num=None, figsize=(8, 8), dpi=80, facecolor='w', edgecolor='k')\n",
    "\n",
    "x = data['deltaIP_g4mp2a_b3lypLa']\n",
    "y = data['pred_deltaIP_g4mp2a_b3lypLa']\n",
    "z = np.polyfit(x, y, 1)\n",
    "plt.scatter(x, y)\n",
    "p = np.poly1d(z)\n",
    "plt.plot(x,p(x),\"r--\")\n",
    "plt.xlim(-0.5, 1.5)\n",
    "plt.ylim(-0.5, 1.5)\n",
    "plt.xticks(fontsize=14)\n",
    "plt.yticks(fontsize=14)\n",
    "plt.title('G4MP2-A minus B3LYP-A/6-31+G(2df,p)', pad=15, fontsize=18)\n",
    "plt.xlabel('DFT Calculated ∆_IP [eV]', fontsize=18, labelpad=15)\n",
    "plt.ylabel('FCHL-∆ Predicted ∆_IP [eV]', labelpad=10, fontsize=18)\n",
    "plt.tight_layout()\n",
    "plt.savefig(\"deltaIP_g4mp2a_b3lypLa.png\")\n",
    "plt.show()\n"
   ]
  },
  {
   "cell_type": "code",
   "execution_count": 49,
   "metadata": {},
   "outputs": [
    {
     "name": "stdout",
     "output_type": "stream",
     "text": [
      "Results of sklearn.metrics:\n",
      "MAE: 0.0596318617375774\n",
      "MSE: 0.007654261675959077\n",
      "RMSE: 0.08748863741057508\n",
      "R-Squared: 0.643913131397583\n"
     ]
    }
   ],
   "source": [
    "data = pd.read_csv('deltaIP_g4mp2a_b3lypLa_fchl_predictions.csv')\n",
    "\n",
    "y = data['deltaIP_g4mp2a_b3lypLa']\n",
    "yhat = data['pred_deltaIP_g4mp2a_b3lypLa']\n",
    "\n",
    "mae = metrics.mean_absolute_error(y, yhat)\n",
    "mse = metrics.mean_squared_error(y, yhat)\n",
    "rmse = np.sqrt(mse) # or mse**(0.5)  \n",
    "r2 = metrics.r2_score(y,yhat)\n",
    "\n",
    "print(\"Results of sklearn.metrics:\")\n",
    "print(\"MAE:\",mae)\n",
    "print(\"MSE:\", mse)\n",
    "print(\"RMSE:\", rmse)\n",
    "print(\"R-Squared:\", r2)\n"
   ]
  },
  {
   "cell_type": "code",
   "execution_count": null,
   "metadata": {},
   "outputs": [],
   "source": []
  },
  {
   "cell_type": "code",
   "execution_count": null,
   "metadata": {},
   "outputs": [],
   "source": []
  },
  {
   "cell_type": "code",
   "execution_count": null,
   "metadata": {},
   "outputs": [],
   "source": []
  },
  {
   "cell_type": "markdown",
   "metadata": {},
   "source": [
    "## Load in the Training Data for wB97Xd\n",
    "Load the training data, complete with the representations"
   ]
  },
  {
   "cell_type": "code",
   "execution_count": 50,
   "metadata": {},
   "outputs": [],
   "source": [
    "train_data = pd.read_pickle('train_data_deltaIP_g4mp2a_wb97xd.pkl.gz')"
   ]
  },
  {
   "cell_type": "code",
   "execution_count": 51,
   "metadata": {},
   "outputs": [],
   "source": [
    "test_data = pd.read_pickle('test_data_deltaIP_g4mp2a_wb97xd.pkl.gz')"
   ]
  },
  {
   "cell_type": "markdown",
   "metadata": {},
   "source": [
    "## Load in the Model\n",
    "Use the model from the previous calculation"
   ]
  },
  {
   "cell_type": "code",
   "execution_count": 52,
   "metadata": {},
   "outputs": [],
   "source": [
    "with gzip.open('model_deltaIP_g4mp2a_wb97xd.pkl.gz', 'rb') as fp:\n",
    "    model = pkl.load(fp)"
   ]
  },
  {
   "cell_type": "markdown",
   "metadata": {},
   "source": [
    "## Train a Model on cations atomization\n",
    "Train only using the WB97XD results"
   ]
  },
  {
   "cell_type": "code",
   "execution_count": 53,
   "metadata": {},
   "outputs": [
    {
     "name": "stderr",
     "output_type": "stream",
     "text": [
      "  0%|          | 0/6 [00:00<?, ?it/s]/home/ndandu/.conda/envs/jcesr_ml/lib/python3.7/site-packages/sklearn/linear_model/ridge.py:125: LinAlgWarning: Ill-conditioned matrix (rcond=3.15356e-18): result may not be accurate.\n",
      "  overwrite_a=True).T\n",
      "100%|██████████| 6/6 [13:21<00:00, 133.57s/it]\n"
     ]
    }
   ],
   "source": [
    "results = []\n",
    "for train_size in tqdm([100, 500, 1000, 1500, 2000, 3000 ]):\n",
    "    # Get some training data\n",
    "    train_subset = train_data.sample(train_size)\n",
    "    \n",
    "    # Train the model\n",
    "    train_time = perf_counter()\n",
    "    model.fit(train_subset['rep'].tolist(), train_subset['deltaIP_g4mp2a_wb97xd'])\n",
    "    train_time = perf_counter() - train_time\n",
    "\n",
    "    # Predict the u0 for the test set\n",
    "    test_time = perf_counter()\n",
    "    pred_w = model.predict(test_data['rep'].tolist())\n",
    "    test_time = perf_counter() - test_time\n",
    "    \n",
    "    results.append({\n",
    "        'train_size': train_size,\n",
    "        'mae': mean_absolute_error(pred_w, test_data['deltaIP_g4mp2a_wb97xd']), \n",
    "        'train_time': train_time, \n",
    "        'test_time': test_time,\n",
    "    })"
   ]
  },
  {
   "cell_type": "code",
   "execution_count": 54,
   "metadata": {},
   "outputs": [
    {
     "data": {
      "text/html": [
       "<div>\n",
       "<style scoped>\n",
       "    .dataframe tbody tr th:only-of-type {\n",
       "        vertical-align: middle;\n",
       "    }\n",
       "\n",
       "    .dataframe tbody tr th {\n",
       "        vertical-align: top;\n",
       "    }\n",
       "\n",
       "    .dataframe thead th {\n",
       "        text-align: right;\n",
       "    }\n",
       "</style>\n",
       "<table border=\"1\" class=\"dataframe\">\n",
       "  <thead>\n",
       "    <tr style=\"text-align: right;\">\n",
       "      <th></th>\n",
       "      <th>mae</th>\n",
       "      <th>test_time</th>\n",
       "      <th>train_size</th>\n",
       "      <th>train_time</th>\n",
       "    </tr>\n",
       "  </thead>\n",
       "  <tbody>\n",
       "    <tr>\n",
       "      <th>0</th>\n",
       "      <td>0.075487</td>\n",
       "      <td>3.447699</td>\n",
       "      <td>100</td>\n",
       "      <td>0.586015</td>\n",
       "    </tr>\n",
       "    <tr>\n",
       "      <th>1</th>\n",
       "      <td>0.047971</td>\n",
       "      <td>12.994753</td>\n",
       "      <td>500</td>\n",
       "      <td>8.962676</td>\n",
       "    </tr>\n",
       "    <tr>\n",
       "      <th>2</th>\n",
       "      <td>0.037845</td>\n",
       "      <td>25.240400</td>\n",
       "      <td>1000</td>\n",
       "      <td>35.677937</td>\n",
       "    </tr>\n",
       "    <tr>\n",
       "      <th>3</th>\n",
       "      <td>0.036305</td>\n",
       "      <td>36.981385</td>\n",
       "      <td>1500</td>\n",
       "      <td>77.068481</td>\n",
       "    </tr>\n",
       "    <tr>\n",
       "      <th>4</th>\n",
       "      <td>0.034071</td>\n",
       "      <td>55.586757</td>\n",
       "      <td>2000</td>\n",
       "      <td>155.021099</td>\n",
       "    </tr>\n",
       "    <tr>\n",
       "      <th>5</th>\n",
       "      <td>0.032227</td>\n",
       "      <td>74.539798</td>\n",
       "      <td>3000</td>\n",
       "      <td>315.252215</td>\n",
       "    </tr>\n",
       "  </tbody>\n",
       "</table>\n",
       "</div>"
      ],
      "text/plain": [
       "        mae  test_time  train_size  train_time\n",
       "0  0.075487   3.447699         100    0.586015\n",
       "1  0.047971  12.994753         500    8.962676\n",
       "2  0.037845  25.240400        1000   35.677937\n",
       "3  0.036305  36.981385        1500   77.068481\n",
       "4  0.034071  55.586757        2000  155.021099\n",
       "5  0.032227  74.539798        3000  315.252215"
      ]
     },
     "execution_count": 54,
     "metadata": {},
     "output_type": "execute_result"
    }
   ],
   "source": [
    "results = pd.DataFrame(results)\n",
    "results"
   ]
  },
  {
   "cell_type": "code",
   "execution_count": 55,
   "metadata": {},
   "outputs": [],
   "source": [
    "with open('deltaIP_g4mp2a_wb97xd_fchl.json', 'w') as fp:\n",
    "    json.dump({\n",
    "        'name': 'FCHL',\n",
    "        'description': 'Model built using the FCHL representation, as implemented in QML, and KRR',\n",
    "        'rdox_benchmark': results.to_dict('records')\n",
    "    }, fp, indent=2)"
   ]
  },
  {
   "cell_type": "code",
   "execution_count": 56,
   "metadata": {},
   "outputs": [],
   "source": [
    "with gzip.open('deltaIP_g4mp2a_wb97xd_fchl.pkl.gz', 'wb') as fp:\n",
    "    pkl.dump(model, fp)"
   ]
  },
  {
   "cell_type": "code",
   "execution_count": 57,
   "metadata": {},
   "outputs": [],
   "source": [
    "data=pd.DataFrame(data={'filename': test_data['filename'], \n",
    "                        'n_heavy_atoms': test_data['n_heavy_atoms'], \n",
    "                        'n_electrons': test_data['n_electrons'], \n",
    "                        'xyz': test_data['xyz'], \n",
    "                        'xyz_oxidized': test_data['xyz_oxidized'],\n",
    "                        'deltaIP_g4mp2a_wb97xd': test_data['deltaIP_g4mp2a_wb97xd'], \n",
    "                        'pred_deltaIP_g4mp2a_wb97xd' : pred_w})\n"
   ]
  },
  {
   "cell_type": "code",
   "execution_count": 58,
   "metadata": {},
   "outputs": [],
   "source": [
    "data.to_csv('deltaIP_g4mp2a_wb97xd_fchl_predictions.csv', index=False)"
   ]
  },
  {
   "cell_type": "code",
   "execution_count": 59,
   "metadata": {},
   "outputs": [],
   "source": [
    "data = pd.read_csv('deltaIP_g4mp2a_wb97xd_fchl_predictions.csv')"
   ]
  },
  {
   "cell_type": "code",
   "execution_count": 60,
   "metadata": {},
   "outputs": [
    {
     "data": {
      "image/png": "[encoded data removed]",
      "text/plain": [
       "<Figure size 640x640 with 1 Axes>"
      ]
     },
     "metadata": {
      "needs_background": "light"
     },
     "output_type": "display_data"
    }
   ],
   "source": [
    "#fig, ax = plt.subplots()\n",
    "\n",
    "w = 8\n",
    "h = 8\n",
    "d = 80\n",
    "plt.figure(figsize=(w, h), dpi=d)\n",
    "\n",
    "data = pd.read_csv('deltaIP_g4mp2a_wb97xd_fchl_predictions.csv')\n",
    "#figure(num=None, figsize=(8, 8), dpi=80, facecolor='w', edgecolor='k')\n",
    "\n",
    "x = data['deltaIP_g4mp2a_wb97xd']\n",
    "y = data['pred_deltaIP_g4mp2a_wb97xd']\n",
    "z = np.polyfit(x, y, 1)\n",
    "plt.scatter(x, y)\n",
    "p = np.poly1d(z)\n",
    "plt.plot(x,p(x),\"r--\")\n",
    "plt.xlim(-0.5, 1.5)\n",
    "plt.ylim(-0.5, 1.5)\n",
    "plt.xticks(fontsize=14)\n",
    "plt.yticks(fontsize=14)\n",
    "plt.title('G4MP2-A minus $\\omega$B97Xd/6-311+G(3df,2p)', fontsize=18)\n",
    "plt.xlabel('DFT Calculated ∆_IP [eV]', fontsize=18)\n",
    "plt.ylabel('FCHL-∆ Predicted ∆_IP [eV]', fontsize=18)\n",
    "#plt.plot(data[\"G4MP2_IP\"], data[\"pred_y_300-g4mp2\"], \"o\")\n",
    "plt.savefig(\"deltaIP_g4mp2a_wb97xd.png\")\n",
    "plt.show()\n"
   ]
  },
  {
   "cell_type": "code",
   "execution_count": 61,
   "metadata": {},
   "outputs": [
    {
     "name": "stdout",
     "output_type": "stream",
     "text": [
      "Results of sklearn.metrics:\n",
      "MAE: 0.032227279976591625\n",
      "MSE: 0.0018980076190040962\n",
      "RMSE: 0.04356612926350121\n",
      "R-Squared: 0.6785936450398586\n"
     ]
    }
   ],
   "source": [
    "data = pd.read_csv('deltaIP_g4mp2a_wb97xd_fchl_predictions.csv')\n",
    "\n",
    "y = data['deltaIP_g4mp2a_wb97xd']\n",
    "yhat = data['pred_deltaIP_g4mp2a_wb97xd']\n",
    "\n",
    "mae = metrics.mean_absolute_error(y, yhat)\n",
    "mse = metrics.mean_squared_error(y, yhat)\n",
    "rmse = np.sqrt(mse) # or mse**(0.5)  \n",
    "r2 = metrics.r2_score(y,yhat)\n",
    "\n",
    "print(\"Results of sklearn.metrics:\")\n",
    "print(\"MAE:\",mae)\n",
    "print(\"MSE:\", mse)\n",
    "print(\"RMSE:\", rmse)\n",
    "print(\"R-Squared:\", r2)\n"
   ]
  },
  {
   "cell_type": "code",
   "execution_count": null,
   "metadata": {},
   "outputs": [],
   "source": []
  },
  {
   "cell_type": "markdown",
   "metadata": {},
   "source": [
    "## Load in the Training Data for wB97Xda\n",
    "Load the training data, complete with the representations"
   ]
  },
  {
   "cell_type": "code",
   "execution_count": 62,
   "metadata": {},
   "outputs": [],
   "source": [
    "train_data = pd.read_pickle('train_data_deltaIP_g4mp2a_wb97xda.pkl.gz')"
   ]
  },
  {
   "cell_type": "code",
   "execution_count": 63,
   "metadata": {},
   "outputs": [],
   "source": [
    "test_data = pd.read_pickle('test_data_deltaIP_g4mp2a_wb97xda.pkl.gz')"
   ]
  },
  {
   "cell_type": "markdown",
   "metadata": {},
   "source": [
    "## Load in the Model\n",
    "Use the model from the previous calculation"
   ]
  },
  {
   "cell_type": "code",
   "execution_count": 64,
   "metadata": {},
   "outputs": [],
   "source": [
    "with gzip.open('model_deltaIP_g4mp2a_wb97xda.pkl.gz', 'rb') as fp:\n",
    "    model = pkl.load(fp)"
   ]
  },
  {
   "cell_type": "markdown",
   "metadata": {},
   "source": [
    "## Train a Model on cations atomization\n",
    "Train only using the WB97XD results"
   ]
  },
  {
   "cell_type": "code",
   "execution_count": 65,
   "metadata": {},
   "outputs": [
    {
     "name": "stderr",
     "output_type": "stream",
     "text": [
      "  0%|          | 0/6 [00:00<?, ?it/s]/home/ndandu/.conda/envs/jcesr_ml/lib/python3.7/site-packages/sklearn/linear_model/ridge.py:125: LinAlgWarning: Ill-conditioned matrix (rcond=5.1211e-18): result may not be accurate.\n",
      "  overwrite_a=True).T\n",
      "100%|██████████| 6/6 [13:17<00:00, 132.85s/it]\n"
     ]
    }
   ],
   "source": [
    "results = []\n",
    "for train_size in tqdm([100, 500, 1000, 1500, 2000, 3000 ]):\n",
    "    # Get some training data\n",
    "    train_subset = train_data.sample(train_size)\n",
    "    \n",
    "    # Train the model\n",
    "    train_time = perf_counter()\n",
    "    model.fit(train_subset['rep'].tolist(), train_subset['deltaIP_g4mp2a_wb97xda'])\n",
    "    train_time = perf_counter() - train_time\n",
    "\n",
    "    # Predict the u0 for the test set\n",
    "    test_time = perf_counter()\n",
    "    pred_wa = model.predict(test_data['rep'].tolist())\n",
    "    test_time = perf_counter() - test_time\n",
    "    \n",
    "    results.append({\n",
    "        'train_size': train_size,\n",
    "        'mae': mean_absolute_error(pred_wa, test_data['deltaIP_g4mp2a_wb97xda']), \n",
    "        'train_time': train_time, \n",
    "        'test_time': test_time,\n",
    "    })"
   ]
  },
  {
   "cell_type": "code",
   "execution_count": 66,
   "metadata": {},
   "outputs": [
    {
     "data": {
      "text/html": [
       "<div>\n",
       "<style scoped>\n",
       "    .dataframe tbody tr th:only-of-type {\n",
       "        vertical-align: middle;\n",
       "    }\n",
       "\n",
       "    .dataframe tbody tr th {\n",
       "        vertical-align: top;\n",
       "    }\n",
       "\n",
       "    .dataframe thead th {\n",
       "        text-align: right;\n",
       "    }\n",
       "</style>\n",
       "<table border=\"1\" class=\"dataframe\">\n",
       "  <thead>\n",
       "    <tr style=\"text-align: right;\">\n",
       "      <th></th>\n",
       "      <th>mae</th>\n",
       "      <th>test_time</th>\n",
       "      <th>train_size</th>\n",
       "      <th>train_time</th>\n",
       "    </tr>\n",
       "  </thead>\n",
       "  <tbody>\n",
       "    <tr>\n",
       "      <th>0</th>\n",
       "      <td>0.100486</td>\n",
       "      <td>3.125600</td>\n",
       "      <td>100</td>\n",
       "      <td>0.482538</td>\n",
       "    </tr>\n",
       "    <tr>\n",
       "      <th>1</th>\n",
       "      <td>0.042476</td>\n",
       "      <td>13.131606</td>\n",
       "      <td>500</td>\n",
       "      <td>9.231921</td>\n",
       "    </tr>\n",
       "    <tr>\n",
       "      <th>2</th>\n",
       "      <td>0.037908</td>\n",
       "      <td>24.873641</td>\n",
       "      <td>1000</td>\n",
       "      <td>34.728652</td>\n",
       "    </tr>\n",
       "    <tr>\n",
       "      <th>3</th>\n",
       "      <td>0.038154</td>\n",
       "      <td>37.054301</td>\n",
       "      <td>1500</td>\n",
       "      <td>76.645188</td>\n",
       "    </tr>\n",
       "    <tr>\n",
       "      <th>4</th>\n",
       "      <td>0.032965</td>\n",
       "      <td>55.281649</td>\n",
       "      <td>2000</td>\n",
       "      <td>153.565798</td>\n",
       "    </tr>\n",
       "    <tr>\n",
       "      <th>5</th>\n",
       "      <td>0.031835</td>\n",
       "      <td>74.473308</td>\n",
       "      <td>3000</td>\n",
       "      <td>314.472707</td>\n",
       "    </tr>\n",
       "  </tbody>\n",
       "</table>\n",
       "</div>"
      ],
      "text/plain": [
       "        mae  test_time  train_size  train_time\n",
       "0  0.100486   3.125600         100    0.482538\n",
       "1  0.042476  13.131606         500    9.231921\n",
       "2  0.037908  24.873641        1000   34.728652\n",
       "3  0.038154  37.054301        1500   76.645188\n",
       "4  0.032965  55.281649        2000  153.565798\n",
       "5  0.031835  74.473308        3000  314.472707"
      ]
     },
     "execution_count": 66,
     "metadata": {},
     "output_type": "execute_result"
    }
   ],
   "source": [
    "results = pd.DataFrame(results)\n",
    "results"
   ]
  },
  {
   "cell_type": "code",
   "execution_count": 67,
   "metadata": {},
   "outputs": [],
   "source": [
    "with open('deltaIP_g4mp2a_wb97xda_fchl.json', 'w') as fp:\n",
    "    json.dump({\n",
    "        'name': 'FCHL',\n",
    "        'description': 'Model built using the FCHL representation, as implemented in QML, and KRR',\n",
    "        'rdox_benchmark': results.to_dict('records')\n",
    "    }, fp, indent=2)"
   ]
  },
  {
   "cell_type": "code",
   "execution_count": 68,
   "metadata": {},
   "outputs": [],
   "source": [
    "with gzip.open('deltaIP_g4mp2a_wb97xda_fchl.pkl.gz', 'wb') as fp:\n",
    "    pkl.dump(model, fp)"
   ]
  },
  {
   "cell_type": "code",
   "execution_count": 69,
   "metadata": {},
   "outputs": [],
   "source": [
    "data=pd.DataFrame(data={'filename': test_data['filename'], \n",
    "                        'n_heavy_atoms': test_data['n_heavy_atoms'], \n",
    "                        'n_electrons': test_data['n_electrons'], \n",
    "                        'n_atoms': test_data['n_atoms'], \n",
    "                        'xyz': test_data['xyz'], \n",
    "                        'xyz_oxidized': test_data['xyz_oxidized'],\n",
    "                        'G4MP2_IP': test_data['G4MP2_IP'], \n",
    "                        'G4MP2_IP_ASC': test_data['G4MP2_IP_ASC'], \n",
    "                        'B3LYP_IP': test_data['B3LYP_IP'], \n",
    "                        'B3LYP_IP_ASC': test_data['B3LYP_IP_ASC'], \n",
    "                        'B3LYP_large_IP': test_data['B3LYP_large_IP'], \n",
    "                        'B3LYP_large_IP_ASC': test_data['B3LYP_large_IP_ASC'], \n",
    "                        'wB97Xd_IP': test_data['wB97Xd_IP'], \n",
    "                        'wB97Xd_IP_ASC': test_data['wB97Xd_IP_ASC'], \n",
    "                        \n",
    "                        'deltaIP_g4mp2a_b3lyp': test_data['deltaIP_g4mp2a_b3lyp'], \n",
    "                        'pred_deltaIP_g4mp2a_b3lyp' : pred_b,\n",
    "\n",
    "                        'deltaIP_g4mp2a_b3lypa': test_data['deltaIP_g4mp2a_b3lypa'], \n",
    "                        'pred_deltaIP_g4mp2a_b3lypa' : pred_ba,\n",
    "\n",
    "                        'deltaIP_g4mp2a_b3lypL': test_data['deltaIP_g4mp2a_b3lypL'], \n",
    "                        'pred_deltaIP_g4mp2a_b3lypL' : pred_bL,\n",
    "                        \n",
    "                        'deltaIP_g4mp2a_b3lypLa': test_data['deltaIP_g4mp2a_b3lypLa'], \n",
    "                        'pred_deltaIP_g4mp2a_b3lypLa' : pred_bLa,\n",
    "                        \n",
    "                        'deltaIP_g4mp2a_wb97xd': test_data['deltaIP_g4mp2a_wb97xd'], \n",
    "                        'pred_deltaIP_g4mp2a_wb97xd' : pred_w,\n",
    "                        \n",
    "                        'deltaIP_g4mp2a_wb97xda': test_data['deltaIP_g4mp2a_wb97xda'], \n",
    "                        'pred_deltaIP_g4mp2a_wb97xda' : pred_wa})\n"
   ]
  },
  {
   "cell_type": "code",
   "execution_count": 70,
   "metadata": {},
   "outputs": [],
   "source": [
    "data.to_csv('deltaIP_g4mp2a_wb97xda_fchl_predictions.csv', index=False)"
   ]
  },
  {
   "cell_type": "code",
   "execution_count": 71,
   "metadata": {},
   "outputs": [],
   "source": [
    "data = pd.read_csv('deltaIP_g4mp2a_wb97xda_fchl_predictions.csv')"
   ]
  },
  {
   "cell_type": "code",
   "execution_count": 72,
   "metadata": {},
   "outputs": [
    {
     "data": {
      "image/png": "[encoded data removed]",
      "text/plain": [
       "<Figure size 640x640 with 1 Axes>"
      ]
     },
     "metadata": {
      "needs_background": "light"
     },
     "output_type": "display_data"
    }
   ],
   "source": [
    "#fig, ax = plt.subplots()\n",
    "\n",
    "w = 8\n",
    "h = 8\n",
    "#d = 80\n",
    "plt.figure(figsize=(w, h), dpi=d)\n",
    "\n",
    "data = pd.read_csv('deltaIP_g4mp2a_wb97xda_fchl_predictions.csv')\n",
    "#figure(num=None, figsize=(8, 8), dpi=80, facecolor='w', edgecolor='k')\n",
    "\n",
    "x = data['deltaIP_g4mp2a_wb97xda']\n",
    "y = data['pred_deltaIP_g4mp2a_wb97xda']\n",
    "z = np.polyfit(x, y, 1)\n",
    "plt.scatter(x, y)\n",
    "p = np.poly1d(z)\n",
    "plt.plot(x,p(x),\"r--\")\n",
    "plt.xlim(-0.5, 1.5)\n",
    "plt.ylim(-0.5, 1.5)\n",
    "plt.xticks(fontsize=14)\n",
    "plt.yticks(fontsize=14)\n",
    "plt.title('G4MP2-A minus $\\omega$B97Xd-A/6-311+G(3df,2p)', pad=15, fontsize=18)\n",
    "plt.xlabel('DFT Calculated ∆_IP [eV]', labelpad=15, fontsize=18)\n",
    "plt.ylabel('FCHL-∆ Predicted ∆_IP [eV]', labelpad=10, fontsize=18)\n",
    "#plt.plot(data[\"G4MP2_IP\"], data[\"pred_y_300-g4mp2\"], \"o\")\n",
    "plt.tight_layout()\n",
    "plt.savefig(\"deltaIP_g4mp2a_wb97xda.png\")\n",
    "plt.show()\n"
   ]
  },
  {
   "cell_type": "code",
   "execution_count": 73,
   "metadata": {},
   "outputs": [
    {
     "name": "stdout",
     "output_type": "stream",
     "text": [
      "Results of sklearn.metrics:\n",
      "MAE: 0.03183490070216142\n",
      "MSE: 0.0018339409452433476\n",
      "RMSE: 0.042824536719541374\n",
      "R-Squared: 0.8625417432668964\n"
     ]
    }
   ],
   "source": [
    "data = pd.read_csv('deltaIP_g4mp2a_wb97xda_fchl_predictions.csv')\n",
    "\n",
    "y = data['deltaIP_g4mp2a_wb97xda']\n",
    "yhat = data['pred_deltaIP_g4mp2a_wb97xda']\n",
    "\n",
    "mae = metrics.mean_absolute_error(y, yhat)\n",
    "mse = metrics.mean_squared_error(y, yhat)\n",
    "rmse = np.sqrt(mse) # or mse**(0.5)  \n",
    "r2 = metrics.r2_score(y,yhat)\n",
    "\n",
    "print(\"Results of sklearn.metrics:\")\n",
    "print(\"MAE:\",mae)\n",
    "print(\"MSE:\", mse)\n",
    "print(\"RMSE:\", rmse)\n",
    "print(\"R-Squared:\", r2)\n"
   ]
  },
  {
   "cell_type": "code",
   "execution_count": null,
   "metadata": {},
   "outputs": [],
   "source": []
  }
 ],
 "metadata": {
  "kernelspec": {
   "display_name": "Python 3",
   "language": "python",
   "name": "python3"
  },
  "language_info": {
   "codemirror_mode": {
    "name": "ipython",
    "version": 3
   },
   "file_extension": ".py",
   "mimetype": "text/x-python",
   "name": "python",
   "nbconvert_exporter": "python",
   "pygments_lexer": "ipython3",
   "version": "3.7.2"
  }
 },
 "nbformat": 4,
 "nbformat_minor": 4
}
