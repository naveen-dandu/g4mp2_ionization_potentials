{
 "cells": [
  {
   "cell_type": "markdown",
   "metadata": {},
   "source": [
    "# Compute Representations\n",
    "Generate QML representations for the training and test data"
   ]
  },
  {
   "cell_type": "code",
   "execution_count": 1,
   "metadata": {},
   "outputs": [],
   "source": [
    "%matplotlib inline\n",
    "from matplotlib import pyplot as plt\n",
    "from jcesr_ml.utils import compute_atomization_energy\n",
    "from jcesr_ml.qml import FCHLKernel\n",
    "from sklearn.linear_model import LinearRegression, Ridge\n",
    "from sklearn.model_selection import train_test_split\n",
    "from sklearn.metrics import mean_absolute_error\n",
    "from sklearn.pipeline import Pipeline\n",
    "from ase.io.xyz import read_xyz\n",
    "from qml.data import Compound\n",
    "from io import StringIO\n",
    "import pickle as pkl\n",
    "import pandas as pd\n",
    "import numpy as np\n",
    "import warnings\n",
    "import json\n",
    "import gzip\n",
    "import os"
   ]
  },
  {
   "cell_type": "markdown",
   "metadata": {},
   "source": [
    "Numbers to change"
   ]
  },
  {
   "cell_type": "code",
   "execution_count": 2,
   "metadata": {},
   "outputs": [],
   "source": [
    "max_size = 64  # Maximum size of molecules (intentionally larger than training set)"
   ]
  },
  {
   "cell_type": "code",
   "execution_count": 3,
   "metadata": {},
   "outputs": [],
   "source": [
    "train_set_size = 3060\n",
    "test_set_size = 340"
   ]
  },
  {
   "cell_type": "code",
   "execution_count": 4,
   "metadata": {},
   "outputs": [],
   "source": [
    "project_root = os.path.join('..' )"
   ]
  },
  {
   "cell_type": "code",
   "execution_count": 5,
   "metadata": {},
   "outputs": [],
   "source": [
    "useful_columns = ['xyz', 'xyz_oxidized', \n",
    "                  'filename', 'n_heavy_atoms', 'n_electrons', 'n_atoms',  \n",
    "                  'u0_g4mp2', 'smiles', 'u0_oxidized_g4mp2',  \n",
    "                  'G4MP2_IP', 'G4MP2_IP_ASC',  \n",
    "                  'B3LYP_IP', 'B3LYP_IP_ASC', \n",
    "                  'B3LYP_large_IP', 'B3LYP_large_IP_ASC',  \n",
    "                  'wB97Xd_IP', 'wB97Xd_IP_ASC']"
   ]
  },
  {
   "cell_type": "markdown",
   "metadata": {},
   "source": [
    "## Load Training Data\n",
    "Read in the list of datasets to be used to train the models"
   ]
  },
  {
   "cell_type": "code",
   "execution_count": 6,
   "metadata": {},
   "outputs": [],
   "source": [
    "with open(os.path.join('datasets.json')) as fp:\n",
    "    datasets = json.load(fp)"
   ]
  },
  {
   "cell_type": "markdown",
   "metadata": {},
   "source": [
    "Dataset paths are relative to the root of this project"
   ]
  },
  {
   "cell_type": "code",
   "execution_count": 7,
   "metadata": {},
   "outputs": [
    {
     "name": "stdout",
     "output_type": "stream",
     "text": [
      "Loaded 3405 training entries\n"
     ]
    }
   ],
   "source": [
    "all_data = []\n",
    "for desc in datasets:\n",
    "    # Load in the dataset description\n",
    "    with open(os.path.join(project_root, desc)) as fp:\n",
    "        desc = json.load(fp)\n",
    "    \n",
    "    # Use the description to load in the data\n",
    "    load_fn = getattr(pd, 'read_' + desc['dataset']['format'])\n",
    "    dataset = load_fn(\n",
    "        os.path.join(project_root, desc['dlhub']['files']['data']),\n",
    "        **desc['dataset']['read_options']\n",
    "    )\n",
    "    \n",
    "    # Add only the needed columns to the training data\n",
    "    all_data.append(dataset[useful_columns])\n",
    "    \n",
    "    del dataset\n",
    "all_data = pd.concat(all_data)\n",
    "print('Loaded {} training entries'.format(len(all_data)))"
   ]
  },
  {
   "cell_type": "markdown",
   "metadata": {},
   "source": [
    "## Select a Training and Validation Set\n",
    "FCHL becomes computationally intractable to train for large dataset sizes. We select the largest training set size we can tolerate on available hardware by taking a random subset of the training data. [Browning et al.](https://pubs.acs.org/doi/10.1021/acs.jpclett.7b00038) have shown that using Genetic Algorithms to identify optimal training sets can lead to better results than random subsets, and we intend to implement the GA approach in the future.\n",
    "\n",
    "We also use a distinct subset of the dataset to use as a test set for setting the model hyperparameters. "
   ]
  },
  {
   "cell_type": "code",
   "execution_count": 8,
   "metadata": {},
   "outputs": [],
   "source": [
    "train_data, test_data = train_test_split(all_data, train_size=train_set_size, test_size=test_set_size, shuffle=True)"
   ]
  },
  {
   "cell_type": "markdown",
   "metadata": {},
   "source": [
    "Make these datasets copies to avoid warnings later"
   ]
  },
  {
   "cell_type": "code",
   "execution_count": 9,
   "metadata": {},
   "outputs": [],
   "source": [
    "train_data = train_data.copy()\n",
    "test_data = test_data.copy()"
   ]
  },
  {
   "cell_type": "markdown",
   "metadata": {},
   "source": [
    "We no longer need the full dataset, clearing to save memory"
   ]
  },
  {
   "cell_type": "code",
   "execution_count": 10,
   "metadata": {},
   "outputs": [],
   "source": [
    "del all_data"
   ]
  },
  {
   "cell_type": "markdown",
   "metadata": {},
   "source": [
    "## Compute the Representations\n",
    "We are going to use the [FCHL representation](https://doi.org/10.1063/1.5020710) to describe each molecule. With `qml`, you must pre-compute some bits about each molecule before you can use them on arbitrary molecules. Before computing the represetnation, we need to convert the XYZ file to QML format. This representation is kind of large, so we don't store it."
   ]
  },
  {
   "cell_type": "code",
   "execution_count": 11,
   "metadata": {},
   "outputs": [],
   "source": [
    "def compute_rep(x):\n",
    "    \"\"\"Generates representation and returns the values\"\"\"\n",
    "    x.generate_fchl_representation(max_size)\n",
    "    return x.representation"
   ]
  },
  {
   "cell_type": "code",
   "execution_count": 12,
   "metadata": {},
   "outputs": [
    {
     "name": "stdout",
     "output_type": "stream",
     "text": [
      "CPU times: user 2.78 s, sys: 242 ms, total: 3.03 s\n",
      "Wall time: 3.03 s\n"
     ]
    }
   ],
   "source": [
    "%%time\n",
    "train_data['rep'] = list(map(compute_rep, map(lambda x: Compound(StringIO(x)), train_data['xyz'])))\n",
    "test_data['rep'] = list(map(compute_rep, map(lambda x: Compound(StringIO(x)), test_data['xyz'])))"
   ]
  },
  {
   "cell_type": "markdown",
   "metadata": {},
   "source": [
    "## Compute Ionization Energy\n",
    "Performance FCHL is better when operating on the Ionization energy"
   ]
  },
  {
   "cell_type": "code",
   "execution_count": 13,
   "metadata": {},
   "outputs": [],
   "source": [
    "train_data['deltaIP_g4mp2_b3lyp'] = train_data['G4MP2_IP'] - train_data['B3LYP_IP']"
   ]
  },
  {
   "cell_type": "code",
   "execution_count": 14,
   "metadata": {},
   "outputs": [],
   "source": [
    "test_data['deltaIP_g4mp2_b3lyp'] = test_data['G4MP2_IP'] - test_data['B3LYP_IP']"
   ]
  },
  {
   "cell_type": "code",
   "execution_count": 15,
   "metadata": {},
   "outputs": [],
   "source": [
    "train_data['deltaIP_g4mp2_b3lypa'] = train_data['G4MP2_IP'] - train_data['B3LYP_IP_ASC']"
   ]
  },
  {
   "cell_type": "code",
   "execution_count": 16,
   "metadata": {},
   "outputs": [],
   "source": [
    "test_data['deltaIP_g4mp2_b3lypa'] = test_data['G4MP2_IP'] - test_data['B3LYP_IP_ASC']"
   ]
  },
  {
   "cell_type": "code",
   "execution_count": 17,
   "metadata": {},
   "outputs": [],
   "source": [
    "train_data['deltaIP_g4mp2a_b3lyp'] = train_data['G4MP2_IP_ASC'] - train_data['B3LYP_IP']"
   ]
  },
  {
   "cell_type": "code",
   "execution_count": 18,
   "metadata": {},
   "outputs": [],
   "source": [
    "test_data['deltaIP_g4mp2a_b3lyp'] = test_data['G4MP2_IP_ASC'] - test_data['B3LYP_IP']"
   ]
  },
  {
   "cell_type": "code",
   "execution_count": 19,
   "metadata": {},
   "outputs": [],
   "source": [
    "train_data['deltaIP_g4mp2a_b3lypa'] = train_data['G4MP2_IP_ASC'] - train_data['B3LYP_IP_ASC']"
   ]
  },
  {
   "cell_type": "code",
   "execution_count": 20,
   "metadata": {},
   "outputs": [],
   "source": [
    "test_data['deltaIP_g4mp2a_b3lypa'] = test_data['G4MP2_IP_ASC'] - test_data['B3LYP_IP_ASC']"
   ]
  },
  {
   "cell_type": "code",
   "execution_count": null,
   "metadata": {},
   "outputs": [],
   "source": []
  },
  {
   "cell_type": "code",
   "execution_count": 21,
   "metadata": {},
   "outputs": [],
   "source": [
    "train_data['deltaIP_g4mp2_b3lypL'] = train_data['G4MP2_IP'] - train_data['B3LYP_large_IP']"
   ]
  },
  {
   "cell_type": "code",
   "execution_count": 22,
   "metadata": {},
   "outputs": [],
   "source": [
    "test_data['deltaIP_g4mp2_b3lypL'] = test_data['G4MP2_IP'] - test_data['B3LYP_large_IP']"
   ]
  },
  {
   "cell_type": "code",
   "execution_count": 23,
   "metadata": {},
   "outputs": [],
   "source": [
    "train_data['deltaIP_g4mp2_b3lypLa'] = train_data['G4MP2_IP'] - train_data['B3LYP_large_IP_ASC']"
   ]
  },
  {
   "cell_type": "code",
   "execution_count": 24,
   "metadata": {},
   "outputs": [],
   "source": [
    "test_data['deltaIP_g4mp2_b3lypLa'] = test_data['G4MP2_IP'] - test_data['B3LYP_large_IP_ASC']"
   ]
  },
  {
   "cell_type": "code",
   "execution_count": 25,
   "metadata": {},
   "outputs": [],
   "source": [
    "train_data['deltaIP_g4mp2a_b3lypL'] = train_data['G4MP2_IP_ASC'] - train_data['B3LYP_large_IP']"
   ]
  },
  {
   "cell_type": "code",
   "execution_count": 26,
   "metadata": {},
   "outputs": [],
   "source": [
    "test_data['deltaIP_g4mp2a_b3lypL'] = test_data['G4MP2_IP_ASC'] - test_data['B3LYP_large_IP']"
   ]
  },
  {
   "cell_type": "code",
   "execution_count": 27,
   "metadata": {},
   "outputs": [],
   "source": [
    "train_data['deltaIP_g4mp2a_b3lypLa'] = train_data['G4MP2_IP_ASC'] - train_data['B3LYP_large_IP_ASC']"
   ]
  },
  {
   "cell_type": "code",
   "execution_count": 28,
   "metadata": {},
   "outputs": [],
   "source": [
    "test_data['deltaIP_g4mp2a_b3lypLa'] = test_data['G4MP2_IP_ASC'] - test_data['B3LYP_large_IP_ASC']"
   ]
  },
  {
   "cell_type": "code",
   "execution_count": null,
   "metadata": {},
   "outputs": [],
   "source": []
  },
  {
   "cell_type": "code",
   "execution_count": 29,
   "metadata": {},
   "outputs": [],
   "source": [
    "train_data['deltaIP_g4mp2_wb97xd'] = train_data['G4MP2_IP'] - train_data['wB97Xd_IP']"
   ]
  },
  {
   "cell_type": "code",
   "execution_count": 30,
   "metadata": {},
   "outputs": [],
   "source": [
    "test_data['deltaIP_g4mp2_wb97xd'] = test_data['G4MP2_IP'] - test_data['wB97Xd_IP']"
   ]
  },
  {
   "cell_type": "code",
   "execution_count": 31,
   "metadata": {},
   "outputs": [],
   "source": [
    "train_data['deltaIP_g4mp2_wb97xda'] = train_data['G4MP2_IP'] - train_data['wB97Xd_IP_ASC']"
   ]
  },
  {
   "cell_type": "code",
   "execution_count": 32,
   "metadata": {},
   "outputs": [],
   "source": [
    "test_data['deltaIP_g4mp2_wb97xda'] = test_data['G4MP2_IP'] - test_data['wB97Xd_IP_ASC']"
   ]
  },
  {
   "cell_type": "code",
   "execution_count": 33,
   "metadata": {},
   "outputs": [],
   "source": [
    "train_data['deltaIP_g4mp2a_wb97xd'] = train_data['G4MP2_IP_ASC'] - train_data['wB97Xd_IP']"
   ]
  },
  {
   "cell_type": "code",
   "execution_count": 34,
   "metadata": {},
   "outputs": [],
   "source": [
    "test_data['deltaIP_g4mp2a_wb97xd'] = test_data['G4MP2_IP_ASC'] - test_data['wB97Xd_IP']"
   ]
  },
  {
   "cell_type": "code",
   "execution_count": 35,
   "metadata": {},
   "outputs": [],
   "source": [
    "train_data['deltaIP_g4mp2a_wb97xda'] = train_data['G4MP2_IP_ASC'] - train_data['wB97Xd_IP_ASC']"
   ]
  },
  {
   "cell_type": "code",
   "execution_count": 36,
   "metadata": {},
   "outputs": [],
   "source": [
    "test_data['deltaIP_g4mp2a_wb97xda'] = test_data['G4MP2_IP_ASC'] - test_data['wB97Xd_IP_ASC']"
   ]
  },
  {
   "cell_type": "code",
   "execution_count": null,
   "metadata": {},
   "outputs": [],
   "source": []
  },
  {
   "cell_type": "markdown",
   "metadata": {},
   "source": [
    "## Train a Model \n",
    "Train a FCHL model to predict the $\\Delta$ between B3LYP and G4MP2. We are going to break it into multiple steps: computing the kernel matrix for the training set and test set. "
   ]
  },
  {
   "cell_type": "markdown",
   "metadata": {},
   "source": [
    "### Pre-compute the Kernels\n",
    "We'll use them many times during the model tuning, and they are "
   ]
  },
  {
   "cell_type": "code",
   "execution_count": 37,
   "metadata": {},
   "outputs": [],
   "source": [
    "fchl = FCHLKernel()"
   ]
  },
  {
   "cell_type": "code",
   "execution_count": 38,
   "metadata": {},
   "outputs": [
    {
     "name": "stdout",
     "output_type": "stream",
     "text": [
      "CPU times: user 3h 11min 31s, sys: 1.21 s, total: 3h 11min 32s\n",
      "Wall time: 5min 20s\n"
     ]
    }
   ],
   "source": [
    "%%time\n",
    "K_train = fchl.fit_transform(train_data['rep'].tolist())"
   ]
  },
  {
   "cell_type": "code",
   "execution_count": 39,
   "metadata": {},
   "outputs": [
    {
     "name": "stdout",
     "output_type": "stream",
     "text": [
      "CPU times: user 44min 28s, sys: 1.19 s, total: 44min 29s\n",
      "Wall time: 1min 15s\n"
     ]
    }
   ],
   "source": [
    "%%time\n",
    "K_test = fchl.transform(test_data['rep'].tolist())"
   ]
  },
  {
   "cell_type": "code",
   "execution_count": null,
   "metadata": {},
   "outputs": [],
   "source": []
  },
  {
   "cell_type": "markdown",
   "metadata": {},
   "source": [
    "### Adjust the Hyperparameters for B3LYP IPs and G4MP2 IPs\n",
    "Determine how much regularization to use"
   ]
  },
  {
   "cell_type": "markdown",
   "metadata": {},
   "source": [
    "First, without regularization"
   ]
  },
  {
   "cell_type": "code",
   "execution_count": 40,
   "metadata": {},
   "outputs": [
    {
     "name": "stdout",
     "output_type": "stream",
     "text": [
      "Without regularization: 1.26e-01\n"
     ]
    }
   ],
   "source": [
    "lr = LinearRegression(fit_intercept=False)\n",
    "y_pred = lr.fit(K_train, train_data['deltaIP_g4mp2_b3lyp']).predict(K_test)\n",
    "lr_mae = mean_absolute_error(y_pred, test_data['deltaIP_g4mp2_b3lyp'])\n",
    "print('Without regularization: {:.2e}'.format(lr_mae))"
   ]
  },
  {
   "cell_type": "markdown",
   "metadata": {},
   "source": [
    "Run the model with ridge parameters"
   ]
  },
  {
   "cell_type": "code",
   "execution_count": 41,
   "metadata": {},
   "outputs": [],
   "source": [
    "lambdas = np.logspace(-16, 0, 128)"
   ]
  },
  {
   "cell_type": "code",
   "execution_count": 42,
   "metadata": {},
   "outputs": [
    {
     "name": "stdout",
     "output_type": "stream",
     "text": [
      "Best regularization: 5.80e-02 at lambda: 2.7e-10\n"
     ]
    }
   ],
   "source": [
    "with warnings.catch_warnings():\n",
    "    warnings.simplefilter(\"ignore\")\n",
    "    ridge_mae = [\n",
    "        mean_absolute_error(Ridge(alpha=l, fit_intercept=False).fit(K_train, train_data['deltaIP_g4mp2_b3lyp']).predict(K_test), test_data['deltaIP_g4mp2_b3lyp'])\n",
    "        for l in lambdas\n",
    "    ]\n",
    "    print('Best regularization: {:.2e} at lambda: {:.1e}'.format(np.min(ridge_mae), lambdas[np.argmin(ridge_mae)]))"
   ]
  },
  {
   "cell_type": "code",
   "execution_count": 43,
   "metadata": {},
   "outputs": [
    {
     "data": {
      "image/png": "[encoded data removed]",
      "text/plain": [
       "<Figure size 252x180 with 1 Axes>"
      ]
     },
     "metadata": {
      "needs_background": "light"
     },
     "output_type": "display_data"
    }
   ],
   "source": [
    "fig, ax  = plt.subplots()\n",
    "\n",
    "ax.loglog(lambdas, ridge_mae, 'o--')\n",
    "\n",
    "ax.set_ylabel('MAE (eV)')\n",
    "ax.set_xlabel('$\\lambda$')\n",
    "\n",
    "fig.set_size_inches(3.5, 2.5)"
   ]
  },
  {
   "cell_type": "markdown",
   "metadata": {},
   "source": [
    "Get the right linear regression tool. Ridge if it works better, Linear Regression otherwise"
   ]
  },
  {
   "cell_type": "code",
   "execution_count": 44,
   "metadata": {},
   "outputs": [],
   "source": [
    "model = lr if lr_mae < np.min(ridge_mae) else Ridge(alpha=lambdas[np.argmin(ridge_mae)], fit_intercept=False).fit(K_train, train_data['deltaIP_g4mp2_b3lyp'])\n"
   ]
  },
  {
   "cell_type": "code",
   "execution_count": 45,
   "metadata": {},
   "outputs": [
    {
     "data": {
      "text/plain": [
       "Ridge(alpha=2.661931346126126e-10, copy_X=True, fit_intercept=False,\n",
       "   max_iter=None, normalize=False, random_state=None, solver='auto',\n",
       "   tol=0.001)"
      ]
     },
     "execution_count": 45,
     "metadata": {},
     "output_type": "execute_result"
    }
   ],
   "source": [
    "model"
   ]
  },
  {
   "cell_type": "markdown",
   "metadata": {},
   "source": [
    "## Make the model\n",
    "Combine the two components and save it to disk"
   ]
  },
  {
   "cell_type": "code",
   "execution_count": 46,
   "metadata": {},
   "outputs": [],
   "source": [
    "#del K_train # Huge and no longer needed"
   ]
  },
  {
   "cell_type": "code",
   "execution_count": 47,
   "metadata": {},
   "outputs": [],
   "source": [
    "model = Pipeline([\n",
    "    ('kernel', fchl),\n",
    "    ('model', model)\n",
    "])"
   ]
  },
  {
   "cell_type": "code",
   "execution_count": 48,
   "metadata": {},
   "outputs": [],
   "source": [
    "with gzip.open('model_deltaIP_g4mp2_b3lyp.pkl.gz', 'wb') as fp:\n",
    "    pkl.dump(model, fp)"
   ]
  },
  {
   "cell_type": "code",
   "execution_count": 49,
   "metadata": {},
   "outputs": [],
   "source": [
    "train_data.to_pickle('train_data_deltaIP_g4mp2_b3lyp.pkl.gz')"
   ]
  },
  {
   "cell_type": "code",
   "execution_count": 50,
   "metadata": {},
   "outputs": [],
   "source": [
    "test_data.to_pickle('test_data_deltaIP_g4mp2_b3lyp.pkl.gz')"
   ]
  },
  {
   "cell_type": "code",
   "execution_count": null,
   "metadata": {},
   "outputs": [],
   "source": []
  },
  {
   "cell_type": "markdown",
   "metadata": {},
   "source": [
    "### Adjust the Hyperparameters for B3LYP IPs and G4MP2-A IPs\n",
    "Determine how much regularization to use"
   ]
  },
  {
   "cell_type": "markdown",
   "metadata": {},
   "source": [
    "First, without regularization"
   ]
  },
  {
   "cell_type": "code",
   "execution_count": 51,
   "metadata": {},
   "outputs": [
    {
     "name": "stdout",
     "output_type": "stream",
     "text": [
      "Without regularization: 1.26e-01\n"
     ]
    }
   ],
   "source": [
    "lr = LinearRegression(fit_intercept=False)\n",
    "y_pred = lr.fit(K_train, train_data['deltaIP_g4mp2a_b3lyp']).predict(K_test)\n",
    "lr_mae = mean_absolute_error(y_pred, test_data['deltaIP_g4mp2a_b3lyp'])\n",
    "print('Without regularization: {:.2e}'.format(lr_mae))"
   ]
  },
  {
   "cell_type": "markdown",
   "metadata": {},
   "source": [
    "Run the model with ridge parameters"
   ]
  },
  {
   "cell_type": "code",
   "execution_count": 52,
   "metadata": {},
   "outputs": [],
   "source": [
    "lambdas = np.logspace(-16, 0, 128)"
   ]
  },
  {
   "cell_type": "code",
   "execution_count": 53,
   "metadata": {},
   "outputs": [
    {
     "name": "stdout",
     "output_type": "stream",
     "text": [
      "Best regularization: 5.80e-02 at lambda: 2.7e-10\n"
     ]
    }
   ],
   "source": [
    "with warnings.catch_warnings():\n",
    "    warnings.simplefilter(\"ignore\")\n",
    "    ridge_mae = [\n",
    "        mean_absolute_error(Ridge(alpha=l, fit_intercept=False).fit(K_train, train_data['deltaIP_g4mp2a_b3lyp']).predict(K_test), test_data['deltaIP_g4mp2a_b3lyp'])\n",
    "        for l in lambdas\n",
    "    ]\n",
    "    print('Best regularization: {:.2e} at lambda: {:.1e}'.format(np.min(ridge_mae), lambdas[np.argmin(ridge_mae)]))"
   ]
  },
  {
   "cell_type": "code",
   "execution_count": 54,
   "metadata": {},
   "outputs": [
    {
     "data": {
      "image/png": "[encoded data removed]",
      "text/plain": [
       "<Figure size 252x180 with 1 Axes>"
      ]
     },
     "metadata": {
      "needs_background": "light"
     },
     "output_type": "display_data"
    }
   ],
   "source": [
    "fig, ax  = plt.subplots()\n",
    "\n",
    "ax.loglog(lambdas, ridge_mae, 'o--')\n",
    "\n",
    "ax.set_ylabel('MAE (eV)')\n",
    "ax.set_xlabel('$\\lambda$')\n",
    "\n",
    "fig.set_size_inches(3.5, 2.5)"
   ]
  },
  {
   "cell_type": "markdown",
   "metadata": {},
   "source": [
    "Get the right linear regression tool. Ridge if it works better, Linear Regression otherwise"
   ]
  },
  {
   "cell_type": "code",
   "execution_count": 55,
   "metadata": {},
   "outputs": [],
   "source": [
    "model = lr if lr_mae < np.min(ridge_mae) else Ridge(alpha=lambdas[np.argmin(ridge_mae)], fit_intercept=False).fit(K_train, train_data['deltaIP_g4mp2a_b3lyp'])"
   ]
  },
  {
   "cell_type": "code",
   "execution_count": 56,
   "metadata": {},
   "outputs": [
    {
     "data": {
      "text/plain": [
       "Ridge(alpha=2.661931346126126e-10, copy_X=True, fit_intercept=False,\n",
       "   max_iter=None, normalize=False, random_state=None, solver='auto',\n",
       "   tol=0.001)"
      ]
     },
     "execution_count": 56,
     "metadata": {},
     "output_type": "execute_result"
    }
   ],
   "source": [
    "model"
   ]
  },
  {
   "cell_type": "markdown",
   "metadata": {},
   "source": [
    "## Make the model\n",
    "Combine the two components and save it to disk"
   ]
  },
  {
   "cell_type": "code",
   "execution_count": 57,
   "metadata": {},
   "outputs": [],
   "source": [
    "#del K_train # Huge and no longer needed"
   ]
  },
  {
   "cell_type": "code",
   "execution_count": 58,
   "metadata": {},
   "outputs": [],
   "source": [
    "model = Pipeline([\n",
    "    ('kernel', fchl),\n",
    "    ('model', model)\n",
    "])"
   ]
  },
  {
   "cell_type": "code",
   "execution_count": 59,
   "metadata": {},
   "outputs": [],
   "source": [
    "with gzip.open('model_deltaIP_g4mp2a_b3lyp.pkl.gz', 'wb') as fp:\n",
    "    pkl.dump(model, fp)"
   ]
  },
  {
   "cell_type": "code",
   "execution_count": 60,
   "metadata": {},
   "outputs": [],
   "source": [
    "train_data.to_pickle('train_data_deltaIP_g4mp2a_b3lyp.pkl.gz')"
   ]
  },
  {
   "cell_type": "code",
   "execution_count": 61,
   "metadata": {},
   "outputs": [],
   "source": [
    "test_data.to_pickle('test_data_deltaIP_g4mp2a_b3lyp.pkl.gz')"
   ]
  },
  {
   "cell_type": "code",
   "execution_count": null,
   "metadata": {},
   "outputs": [],
   "source": []
  },
  {
   "cell_type": "markdown",
   "metadata": {},
   "source": [
    "### Adjust the Hyperparameters for B3LYP-A and G4MP2 IPs\n",
    "Determine how much regularization to use"
   ]
  },
  {
   "cell_type": "markdown",
   "metadata": {},
   "source": [
    "First, without regularization"
   ]
  },
  {
   "cell_type": "code",
   "execution_count": 62,
   "metadata": {},
   "outputs": [
    {
     "name": "stdout",
     "output_type": "stream",
     "text": [
      "Without regularization: 1.26e-01\n"
     ]
    }
   ],
   "source": [
    "lr = LinearRegression(fit_intercept=False)\n",
    "y_pred = lr.fit(K_train, train_data['deltaIP_g4mp2_b3lypa']).predict(K_test)\n",
    "lr_mae = mean_absolute_error(y_pred, test_data['deltaIP_g4mp2_b3lypa'])\n",
    "print('Without regularization: {:.2e}'.format(lr_mae))"
   ]
  },
  {
   "cell_type": "markdown",
   "metadata": {},
   "source": [
    "Run the model with ridge parameters"
   ]
  },
  {
   "cell_type": "code",
   "execution_count": 63,
   "metadata": {},
   "outputs": [],
   "source": [
    "lambdas = np.logspace(-16, 0, 128)"
   ]
  },
  {
   "cell_type": "code",
   "execution_count": 64,
   "metadata": {},
   "outputs": [
    {
     "name": "stdout",
     "output_type": "stream",
     "text": [
      "Best regularization: 5.80e-02 at lambda: 2.7e-10\n"
     ]
    }
   ],
   "source": [
    "with warnings.catch_warnings():\n",
    "    warnings.simplefilter(\"ignore\")\n",
    "    ridge_mae = [\n",
    "        mean_absolute_error(Ridge(alpha=l, fit_intercept=False).fit(K_train, train_data['deltaIP_g4mp2_b3lypa']).predict(K_test), test_data['deltaIP_g4mp2_b3lypa'])\n",
    "        for l in lambdas\n",
    "    ]\n",
    "    print('Best regularization: {:.2e} at lambda: {:.1e}'.format(np.min(ridge_mae), lambdas[np.argmin(ridge_mae)]))"
   ]
  },
  {
   "cell_type": "code",
   "execution_count": 65,
   "metadata": {},
   "outputs": [
    {
     "data": {
      "image/png": "[encoded data removed]",
      "text/plain": [
       "<Figure size 252x180 with 1 Axes>"
      ]
     },
     "metadata": {
      "needs_background": "light"
     },
     "output_type": "display_data"
    }
   ],
   "source": [
    "fig, ax  = plt.subplots()\n",
    "\n",
    "ax.loglog(lambdas, ridge_mae, 'o--')\n",
    "\n",
    "ax.set_ylabel('MAE (eV)')\n",
    "ax.set_xlabel('$\\lambda$')\n",
    "\n",
    "fig.set_size_inches(3.5, 2.5)"
   ]
  },
  {
   "cell_type": "markdown",
   "metadata": {},
   "source": [
    "Get the right linear regression tool. Ridge if it works better, Linear Regression otherwise"
   ]
  },
  {
   "cell_type": "code",
   "execution_count": 66,
   "metadata": {},
   "outputs": [],
   "source": [
    "model = lr if lr_mae < np.min(ridge_mae) else Ridge(alpha=lambdas[np.argmin(ridge_mae)], fit_intercept=False).fit(K_train, train_data['deltaIP_g4mp2_b3lypa'])\n"
   ]
  },
  {
   "cell_type": "code",
   "execution_count": 67,
   "metadata": {},
   "outputs": [
    {
     "data": {
      "text/plain": [
       "Ridge(alpha=2.661931346126126e-10, copy_X=True, fit_intercept=False,\n",
       "   max_iter=None, normalize=False, random_state=None, solver='auto',\n",
       "   tol=0.001)"
      ]
     },
     "execution_count": 67,
     "metadata": {},
     "output_type": "execute_result"
    }
   ],
   "source": [
    "model"
   ]
  },
  {
   "cell_type": "markdown",
   "metadata": {},
   "source": [
    "## Make the model\n",
    "Combine the two components and save it to disk"
   ]
  },
  {
   "cell_type": "code",
   "execution_count": 68,
   "metadata": {},
   "outputs": [],
   "source": [
    "#del K_train # Huge and no longer needed"
   ]
  },
  {
   "cell_type": "code",
   "execution_count": 69,
   "metadata": {},
   "outputs": [],
   "source": [
    "model = Pipeline([\n",
    "    ('kernel', fchl),\n",
    "    ('model', model)\n",
    "])"
   ]
  },
  {
   "cell_type": "code",
   "execution_count": 70,
   "metadata": {},
   "outputs": [],
   "source": [
    "with gzip.open('model_deltaIP_g4mp2_b3lypa.pkl.gz', 'wb') as fp:\n",
    "    pkl.dump(model, fp)"
   ]
  },
  {
   "cell_type": "code",
   "execution_count": 71,
   "metadata": {},
   "outputs": [],
   "source": [
    "train_data.to_pickle('train_data_deltaIP_g4mp2_b3lypa.pkl.gz')"
   ]
  },
  {
   "cell_type": "code",
   "execution_count": 72,
   "metadata": {},
   "outputs": [],
   "source": [
    "test_data.to_pickle('test_data_deltaIP_g4mp2_b3lypa.pkl.gz')"
   ]
  },
  {
   "cell_type": "code",
   "execution_count": null,
   "metadata": {},
   "outputs": [],
   "source": []
  },
  {
   "cell_type": "markdown",
   "metadata": {},
   "source": [
    "### Adjust the Hyperparameters for B3LYP-A and G4MP2-A IPs\n",
    "Determine how much regularization to use"
   ]
  },
  {
   "cell_type": "markdown",
   "metadata": {},
   "source": [
    "First, without regularization"
   ]
  },
  {
   "cell_type": "code",
   "execution_count": 73,
   "metadata": {},
   "outputs": [
    {
     "name": "stdout",
     "output_type": "stream",
     "text": [
      "Without regularization: 1.26e-01\n"
     ]
    }
   ],
   "source": [
    "lr = LinearRegression(fit_intercept=False)\n",
    "y_pred = lr.fit(K_train, train_data['deltaIP_g4mp2a_b3lypa']).predict(K_test)\n",
    "lr_mae = mean_absolute_error(y_pred, test_data['deltaIP_g4mp2a_b3lypa'])\n",
    "print('Without regularization: {:.2e}'.format(lr_mae))"
   ]
  },
  {
   "cell_type": "markdown",
   "metadata": {},
   "source": [
    "Run the model with ridge parameters"
   ]
  },
  {
   "cell_type": "code",
   "execution_count": 74,
   "metadata": {},
   "outputs": [],
   "source": [
    "lambdas = np.logspace(-16, 0, 128)"
   ]
  },
  {
   "cell_type": "code",
   "execution_count": 75,
   "metadata": {},
   "outputs": [
    {
     "name": "stdout",
     "output_type": "stream",
     "text": [
      "Best regularization: 5.80e-02 at lambda: 2.7e-10\n"
     ]
    }
   ],
   "source": [
    "with warnings.catch_warnings():\n",
    "    warnings.simplefilter(\"ignore\")\n",
    "    ridge_mae = [\n",
    "        mean_absolute_error(Ridge(alpha=l, fit_intercept=False).fit(K_train, train_data['deltaIP_g4mp2a_b3lypa']).predict(K_test), test_data['deltaIP_g4mp2a_b3lypa'])\n",
    "        for l in lambdas\n",
    "    ]\n",
    "    print('Best regularization: {:.2e} at lambda: {:.1e}'.format(np.min(ridge_mae), lambdas[np.argmin(ridge_mae)]))"
   ]
  },
  {
   "cell_type": "code",
   "execution_count": 76,
   "metadata": {},
   "outputs": [
    {
     "data": {
      "image/png": "[encoded data removed]",
      "text/plain": [
       "<Figure size 252x180 with 1 Axes>"
      ]
     },
     "metadata": {
      "needs_background": "light"
     },
     "output_type": "display_data"
    }
   ],
   "source": [
    "fig, ax  = plt.subplots()\n",
    "\n",
    "ax.loglog(lambdas, ridge_mae, 'o--')\n",
    "\n",
    "ax.set_ylabel('MAE (eV)')\n",
    "ax.set_xlabel('$\\lambda$')\n",
    "\n",
    "fig.set_size_inches(3.5, 2.5)"
   ]
  },
  {
   "cell_type": "markdown",
   "metadata": {},
   "source": [
    "Get the right linear regression tool. Ridge if it works better, Linear Regression otherwise"
   ]
  },
  {
   "cell_type": "code",
   "execution_count": 77,
   "metadata": {},
   "outputs": [],
   "source": [
    "model = lr if lr_mae < np.min(ridge_mae) else Ridge(alpha=lambdas[np.argmin(ridge_mae)], fit_intercept=False).fit(K_train, train_data['deltaIP_g4mp2a_b3lypa'])"
   ]
  },
  {
   "cell_type": "code",
   "execution_count": 78,
   "metadata": {},
   "outputs": [
    {
     "data": {
      "text/plain": [
       "Ridge(alpha=2.661931346126126e-10, copy_X=True, fit_intercept=False,\n",
       "   max_iter=None, normalize=False, random_state=None, solver='auto',\n",
       "   tol=0.001)"
      ]
     },
     "execution_count": 78,
     "metadata": {},
     "output_type": "execute_result"
    }
   ],
   "source": [
    "model"
   ]
  },
  {
   "cell_type": "markdown",
   "metadata": {},
   "source": [
    "## Make the model\n",
    "Combine the two components and save it to disk"
   ]
  },
  {
   "cell_type": "code",
   "execution_count": 79,
   "metadata": {},
   "outputs": [],
   "source": [
    "#del K_train # Huge and no longer needed"
   ]
  },
  {
   "cell_type": "code",
   "execution_count": 80,
   "metadata": {},
   "outputs": [],
   "source": [
    "model = Pipeline([\n",
    "    ('kernel', fchl),\n",
    "    ('model', model)\n",
    "])"
   ]
  },
  {
   "cell_type": "code",
   "execution_count": 81,
   "metadata": {},
   "outputs": [],
   "source": [
    "with gzip.open('model_deltaIP_g4mp2a_b3lypa.pkl.gz', 'wb') as fp:\n",
    "    pkl.dump(model, fp)"
   ]
  },
  {
   "cell_type": "code",
   "execution_count": 82,
   "metadata": {},
   "outputs": [],
   "source": [
    "train_data.to_pickle('train_data_deltaIP_g4mp2a_b3lypa.pkl.gz')"
   ]
  },
  {
   "cell_type": "code",
   "execution_count": 83,
   "metadata": {},
   "outputs": [],
   "source": [
    "test_data.to_pickle('test_data_deltaIP_g4mp2a_b3lypa.pkl.gz')"
   ]
  },
  {
   "cell_type": "code",
   "execution_count": null,
   "metadata": {},
   "outputs": [],
   "source": []
  },
  {
   "cell_type": "markdown",
   "metadata": {},
   "source": [
    "### Adjust the Hyperparameters for B3LYP-L and G4MP2 IPs\n",
    "Determine how much regularization to use"
   ]
  },
  {
   "cell_type": "markdown",
   "metadata": {},
   "source": [
    "First, without regularization"
   ]
  },
  {
   "cell_type": "code",
   "execution_count": 84,
   "metadata": {},
   "outputs": [
    {
     "name": "stdout",
     "output_type": "stream",
     "text": [
      "Without regularization: 1.27e-01\n"
     ]
    }
   ],
   "source": [
    "lr = LinearRegression(fit_intercept=False)\n",
    "y_pred = lr.fit(K_train, train_data['deltaIP_g4mp2_b3lypL']).predict(K_test)\n",
    "lr_mae = mean_absolute_error(y_pred, test_data['deltaIP_g4mp2_b3lypL'])\n",
    "print('Without regularization: {:.2e}'.format(lr_mae))"
   ]
  },
  {
   "cell_type": "markdown",
   "metadata": {},
   "source": [
    "Run the model with ridge parameters"
   ]
  },
  {
   "cell_type": "code",
   "execution_count": 85,
   "metadata": {},
   "outputs": [],
   "source": [
    "lambdas = np.logspace(-16, 0, 128)"
   ]
  },
  {
   "cell_type": "code",
   "execution_count": 86,
   "metadata": {},
   "outputs": [
    {
     "name": "stdout",
     "output_type": "stream",
     "text": [
      "Best regularization: 5.96e-02 at lambda: 3.6e-10\n"
     ]
    }
   ],
   "source": [
    "with warnings.catch_warnings():\n",
    "    warnings.simplefilter(\"ignore\")\n",
    "    ridge_mae = [\n",
    "        mean_absolute_error(Ridge(alpha=l, fit_intercept=False).fit(K_train, train_data['deltaIP_g4mp2_b3lypL']).predict(K_test), test_data['deltaIP_g4mp2_b3lypL'])\n",
    "        for l in lambdas\n",
    "    ]\n",
    "    print('Best regularization: {:.2e} at lambda: {:.1e}'.format(np.min(ridge_mae), lambdas[np.argmin(ridge_mae)]))"
   ]
  },
  {
   "cell_type": "code",
   "execution_count": 87,
   "metadata": {},
   "outputs": [
    {
     "data": {
      "image/png": "[encoded data removed]",
      "text/plain": [
       "<Figure size 252x180 with 1 Axes>"
      ]
     },
     "metadata": {
      "needs_background": "light"
     },
     "output_type": "display_data"
    }
   ],
   "source": [
    "fig, ax  = plt.subplots()\n",
    "\n",
    "ax.loglog(lambdas, ridge_mae, 'o--')\n",
    "\n",
    "ax.set_ylabel('MAE (eV)')\n",
    "ax.set_xlabel('$\\lambda$')\n",
    "\n",
    "fig.set_size_inches(3.5, 2.5)"
   ]
  },
  {
   "cell_type": "markdown",
   "metadata": {},
   "source": [
    "Get the right linear regression tool. Ridge if it works better, Linear Regression otherwise"
   ]
  },
  {
   "cell_type": "code",
   "execution_count": 88,
   "metadata": {},
   "outputs": [],
   "source": [
    "model = lr if lr_mae < np.min(ridge_mae) else Ridge(alpha=lambdas[np.argmin(ridge_mae)], fit_intercept=False).fit(K_train, train_data['deltaIP_g4mp2_b3lypL'])"
   ]
  },
  {
   "cell_type": "code",
   "execution_count": 89,
   "metadata": {},
   "outputs": [
    {
     "data": {
      "text/plain": [
       "Ridge(alpha=3.557796490339488e-10, copy_X=True, fit_intercept=False,\n",
       "   max_iter=None, normalize=False, random_state=None, solver='auto',\n",
       "   tol=0.001)"
      ]
     },
     "execution_count": 89,
     "metadata": {},
     "output_type": "execute_result"
    }
   ],
   "source": [
    "model"
   ]
  },
  {
   "cell_type": "markdown",
   "metadata": {},
   "source": [
    "## Make the model\n",
    "Combine the two components and save it to disk"
   ]
  },
  {
   "cell_type": "code",
   "execution_count": 90,
   "metadata": {},
   "outputs": [],
   "source": [
    "#del K_train # Huge and no longer needed"
   ]
  },
  {
   "cell_type": "code",
   "execution_count": 91,
   "metadata": {},
   "outputs": [],
   "source": [
    "model = Pipeline([\n",
    "    ('kernel', fchl),\n",
    "    ('model', model)\n",
    "])"
   ]
  },
  {
   "cell_type": "code",
   "execution_count": 92,
   "metadata": {},
   "outputs": [],
   "source": [
    "with gzip.open('model_deltaIP_g4mp2_b3lypL.pkl.gz', 'wb') as fp:\n",
    "    pkl.dump(model, fp)"
   ]
  },
  {
   "cell_type": "code",
   "execution_count": 93,
   "metadata": {},
   "outputs": [],
   "source": [
    "train_data.to_pickle('train_data_deltaIP_g4mp2_b3lypL.pkl.gz')"
   ]
  },
  {
   "cell_type": "code",
   "execution_count": 94,
   "metadata": {},
   "outputs": [],
   "source": [
    "test_data.to_pickle('test_data_deltaIP_g4mp2_b3lypL.pkl.gz')"
   ]
  },
  {
   "cell_type": "code",
   "execution_count": null,
   "metadata": {},
   "outputs": [],
   "source": []
  },
  {
   "cell_type": "markdown",
   "metadata": {},
   "source": [
    "### Adjust the Hyperparameters for B3LYP-L and G4MP2-A IPs\n",
    "Determine how much regularization to use"
   ]
  },
  {
   "cell_type": "markdown",
   "metadata": {},
   "source": [
    "First, without regularization"
   ]
  },
  {
   "cell_type": "code",
   "execution_count": 95,
   "metadata": {},
   "outputs": [
    {
     "name": "stdout",
     "output_type": "stream",
     "text": [
      "Without regularization: 1.27e-01\n"
     ]
    }
   ],
   "source": [
    "lr = LinearRegression(fit_intercept=False)\n",
    "y_pred = lr.fit(K_train, train_data['deltaIP_g4mp2a_b3lypL']).predict(K_test)\n",
    "lr_mae = mean_absolute_error(y_pred, test_data['deltaIP_g4mp2a_b3lypL'])\n",
    "print('Without regularization: {:.2e}'.format(lr_mae))"
   ]
  },
  {
   "cell_type": "markdown",
   "metadata": {},
   "source": [
    "Run the model with ridge parameters"
   ]
  },
  {
   "cell_type": "code",
   "execution_count": 96,
   "metadata": {},
   "outputs": [],
   "source": [
    "lambdas = np.logspace(-16, 0, 128)"
   ]
  },
  {
   "cell_type": "code",
   "execution_count": 97,
   "metadata": {},
   "outputs": [
    {
     "name": "stdout",
     "output_type": "stream",
     "text": [
      "Best regularization: 5.96e-02 at lambda: 3.6e-10\n"
     ]
    }
   ],
   "source": [
    "with warnings.catch_warnings():\n",
    "    warnings.simplefilter(\"ignore\")\n",
    "    ridge_mae = [\n",
    "        mean_absolute_error(Ridge(alpha=l, fit_intercept=False).fit(K_train, train_data['deltaIP_g4mp2a_b3lypL']).predict(K_test), test_data['deltaIP_g4mp2a_b3lypL'])\n",
    "        for l in lambdas\n",
    "    ]\n",
    "    print('Best regularization: {:.2e} at lambda: {:.1e}'.format(np.min(ridge_mae), lambdas[np.argmin(ridge_mae)]))"
   ]
  },
  {
   "cell_type": "code",
   "execution_count": 98,
   "metadata": {},
   "outputs": [
    {
     "data": {
      "image/png": "[encoded data removed]",
      "text/plain": [
       "<Figure size 252x180 with 1 Axes>"
      ]
     },
     "metadata": {
      "needs_background": "light"
     },
     "output_type": "display_data"
    }
   ],
   "source": [
    "fig, ax  = plt.subplots()\n",
    "\n",
    "ax.loglog(lambdas, ridge_mae, 'o--')\n",
    "\n",
    "ax.set_ylabel('MAE (eV)')\n",
    "ax.set_xlabel('$\\lambda$')\n",
    "\n",
    "fig.set_size_inches(3.5, 2.5)"
   ]
  },
  {
   "cell_type": "markdown",
   "metadata": {},
   "source": [
    "Get the right linear regression tool. Ridge if it works better, Linear Regression otherwise"
   ]
  },
  {
   "cell_type": "code",
   "execution_count": 99,
   "metadata": {},
   "outputs": [],
   "source": [
    "model = lr if lr_mae < np.min(ridge_mae) else Ridge(alpha=lambdas[np.argmin(ridge_mae)], fit_intercept=False).fit(K_train, train_data['deltaIP_g4mp2a_b3lypL'])"
   ]
  },
  {
   "cell_type": "code",
   "execution_count": 100,
   "metadata": {},
   "outputs": [
    {
     "data": {
      "text/plain": [
       "Ridge(alpha=3.557796490339488e-10, copy_X=True, fit_intercept=False,\n",
       "   max_iter=None, normalize=False, random_state=None, solver='auto',\n",
       "   tol=0.001)"
      ]
     },
     "execution_count": 100,
     "metadata": {},
     "output_type": "execute_result"
    }
   ],
   "source": [
    "model"
   ]
  },
  {
   "cell_type": "markdown",
   "metadata": {},
   "source": [
    "## Make the model\n",
    "Combine the two components and save it to disk"
   ]
  },
  {
   "cell_type": "code",
   "execution_count": 101,
   "metadata": {},
   "outputs": [],
   "source": [
    "#del K_train # Huge and no longer needed"
   ]
  },
  {
   "cell_type": "code",
   "execution_count": 102,
   "metadata": {},
   "outputs": [],
   "source": [
    "model = Pipeline([\n",
    "    ('kernel', fchl),\n",
    "    ('model', model)\n",
    "])"
   ]
  },
  {
   "cell_type": "code",
   "execution_count": 103,
   "metadata": {},
   "outputs": [],
   "source": [
    "with gzip.open('model_deltaIP_g4mp2a_b3lypL.pkl.gz', 'wb') as fp:\n",
    "    pkl.dump(model, fp)"
   ]
  },
  {
   "cell_type": "code",
   "execution_count": 104,
   "metadata": {},
   "outputs": [],
   "source": [
    "train_data.to_pickle('train_data_deltaIP_g4mp2a_b3lypL.pkl.gz')"
   ]
  },
  {
   "cell_type": "code",
   "execution_count": 105,
   "metadata": {},
   "outputs": [],
   "source": [
    "test_data.to_pickle('test_data_deltaIP_g4mp2a_b3lypL.pkl.gz')"
   ]
  },
  {
   "cell_type": "code",
   "execution_count": null,
   "metadata": {},
   "outputs": [],
   "source": []
  },
  {
   "cell_type": "code",
   "execution_count": null,
   "metadata": {},
   "outputs": [],
   "source": []
  },
  {
   "cell_type": "markdown",
   "metadata": {},
   "source": [
    "### Adjust the Hyperparameters for B3LYP-L-A and G4MP2 IPs\n",
    "Determine how much regularization to use"
   ]
  },
  {
   "cell_type": "markdown",
   "metadata": {},
   "source": [
    "First, without regularization"
   ]
  },
  {
   "cell_type": "code",
   "execution_count": 106,
   "metadata": {},
   "outputs": [
    {
     "name": "stdout",
     "output_type": "stream",
     "text": [
      "Without regularization: 1.27e-01\n"
     ]
    }
   ],
   "source": [
    "lr = LinearRegression(fit_intercept=False)\n",
    "y_pred = lr.fit(K_train, train_data['deltaIP_g4mp2_b3lypLa']).predict(K_test)\n",
    "lr_mae = mean_absolute_error(y_pred, test_data['deltaIP_g4mp2_b3lypLa'])\n",
    "print('Without regularization: {:.2e}'.format(lr_mae))"
   ]
  },
  {
   "cell_type": "markdown",
   "metadata": {},
   "source": [
    "Run the model with ridge parameters"
   ]
  },
  {
   "cell_type": "code",
   "execution_count": 107,
   "metadata": {},
   "outputs": [],
   "source": [
    "lambdas = np.logspace(-16, 0, 128)"
   ]
  },
  {
   "cell_type": "code",
   "execution_count": 108,
   "metadata": {},
   "outputs": [
    {
     "name": "stdout",
     "output_type": "stream",
     "text": [
      "Best regularization: 5.96e-02 at lambda: 3.6e-10\n"
     ]
    }
   ],
   "source": [
    "with warnings.catch_warnings():\n",
    "    warnings.simplefilter(\"ignore\")\n",
    "    ridge_mae = [\n",
    "        mean_absolute_error(Ridge(alpha=l, fit_intercept=False).fit(K_train, train_data['deltaIP_g4mp2_b3lypLa']).predict(K_test), test_data['deltaIP_g4mp2_b3lypLa'])\n",
    "        for l in lambdas\n",
    "    ]\n",
    "    print('Best regularization: {:.2e} at lambda: {:.1e}'.format(np.min(ridge_mae), lambdas[np.argmin(ridge_mae)]))"
   ]
  },
  {
   "cell_type": "code",
   "execution_count": 109,
   "metadata": {},
   "outputs": [
    {
     "data": {
      "image/png": "[encoded data removed]",
      "text/plain": [
       "<Figure size 252x180 with 1 Axes>"
      ]
     },
     "metadata": {
      "needs_background": "light"
     },
     "output_type": "display_data"
    }
   ],
   "source": [
    "fig, ax  = plt.subplots()\n",
    "\n",
    "ax.loglog(lambdas, ridge_mae, 'o--')\n",
    "\n",
    "ax.set_ylabel('MAE (eV)')\n",
    "ax.set_xlabel('$\\lambda$')\n",
    "\n",
    "fig.set_size_inches(3.5, 2.5)"
   ]
  },
  {
   "cell_type": "markdown",
   "metadata": {},
   "source": [
    "Get the right linear regression tool. Ridge if it works better, Linear Regression otherwise"
   ]
  },
  {
   "cell_type": "code",
   "execution_count": 110,
   "metadata": {},
   "outputs": [],
   "source": [
    "model = lr if lr_mae < np.min(ridge_mae) else Ridge(alpha=lambdas[np.argmin(ridge_mae)], fit_intercept=False).fit(K_train, train_data['deltaIP_g4mp2_b3lypLa'])"
   ]
  },
  {
   "cell_type": "code",
   "execution_count": 111,
   "metadata": {},
   "outputs": [
    {
     "data": {
      "text/plain": [
       "Ridge(alpha=3.557796490339488e-10, copy_X=True, fit_intercept=False,\n",
       "   max_iter=None, normalize=False, random_state=None, solver='auto',\n",
       "   tol=0.001)"
      ]
     },
     "execution_count": 111,
     "metadata": {},
     "output_type": "execute_result"
    }
   ],
   "source": [
    "model"
   ]
  },
  {
   "cell_type": "markdown",
   "metadata": {},
   "source": [
    "## Make the model\n",
    "Combine the two components and save it to disk"
   ]
  },
  {
   "cell_type": "code",
   "execution_count": 112,
   "metadata": {},
   "outputs": [],
   "source": [
    "#del K_train # Huge and no longer needed"
   ]
  },
  {
   "cell_type": "code",
   "execution_count": 113,
   "metadata": {},
   "outputs": [],
   "source": [
    "model = Pipeline([\n",
    "    ('kernel', fchl),\n",
    "    ('model', model)\n",
    "])"
   ]
  },
  {
   "cell_type": "code",
   "execution_count": 114,
   "metadata": {},
   "outputs": [],
   "source": [
    "with gzip.open('model_deltaIP_g4mp2_b3lypLa.pkl.gz', 'wb') as fp:\n",
    "    pkl.dump(model, fp)"
   ]
  },
  {
   "cell_type": "code",
   "execution_count": 115,
   "metadata": {},
   "outputs": [],
   "source": [
    "train_data.to_pickle('train_data_deltaIP_g4mp2_b3lypLa.pkl.gz')"
   ]
  },
  {
   "cell_type": "code",
   "execution_count": 116,
   "metadata": {},
   "outputs": [],
   "source": [
    "test_data.to_pickle('test_data_deltaIP_g4mp2_b3lypLa.pkl.gz')"
   ]
  },
  {
   "cell_type": "code",
   "execution_count": null,
   "metadata": {},
   "outputs": [],
   "source": []
  },
  {
   "cell_type": "code",
   "execution_count": null,
   "metadata": {},
   "outputs": [],
   "source": []
  },
  {
   "cell_type": "markdown",
   "metadata": {},
   "source": [
    "### Adjust the Hyperparameters for B3LYP-L-A and G4MP2-A IPs\n",
    "Determine how much regularization to use"
   ]
  },
  {
   "cell_type": "markdown",
   "metadata": {},
   "source": [
    "First, without regularization"
   ]
  },
  {
   "cell_type": "code",
   "execution_count": 117,
   "metadata": {},
   "outputs": [
    {
     "name": "stdout",
     "output_type": "stream",
     "text": [
      "Without regularization: 1.27e-01\n"
     ]
    }
   ],
   "source": [
    "lr = LinearRegression(fit_intercept=False)\n",
    "y_pred = lr.fit(K_train, train_data['deltaIP_g4mp2a_b3lypLa']).predict(K_test)\n",
    "lr_mae = mean_absolute_error(y_pred, test_data['deltaIP_g4mp2a_b3lypLa'])\n",
    "print('Without regularization: {:.2e}'.format(lr_mae))"
   ]
  },
  {
   "cell_type": "markdown",
   "metadata": {},
   "source": [
    "Run the model with ridge parameters"
   ]
  },
  {
   "cell_type": "code",
   "execution_count": 118,
   "metadata": {},
   "outputs": [],
   "source": [
    "lambdas = np.logspace(-16, 0, 128)"
   ]
  },
  {
   "cell_type": "code",
   "execution_count": 119,
   "metadata": {},
   "outputs": [
    {
     "name": "stdout",
     "output_type": "stream",
     "text": [
      "Best regularization: 5.96e-02 at lambda: 3.6e-10\n"
     ]
    }
   ],
   "source": [
    "with warnings.catch_warnings():\n",
    "    warnings.simplefilter(\"ignore\")\n",
    "    ridge_mae = [\n",
    "        mean_absolute_error(Ridge(alpha=l, fit_intercept=False).fit(K_train, train_data['deltaIP_g4mp2a_b3lypLa']).predict(K_test), test_data['deltaIP_g4mp2a_b3lypLa'])\n",
    "        for l in lambdas\n",
    "    ]\n",
    "    print('Best regularization: {:.2e} at lambda: {:.1e}'.format(np.min(ridge_mae), lambdas[np.argmin(ridge_mae)]))"
   ]
  },
  {
   "cell_type": "code",
   "execution_count": 120,
   "metadata": {},
   "outputs": [
    {
     "data": {
      "image/png": "[encoded data removed]",
      "text/plain": [
       "<Figure size 252x180 with 1 Axes>"
      ]
     },
     "metadata": {
      "needs_background": "light"
     },
     "output_type": "display_data"
    }
   ],
   "source": [
    "fig, ax  = plt.subplots()\n",
    "\n",
    "ax.loglog(lambdas, ridge_mae, 'o--')\n",
    "\n",
    "ax.set_ylabel('MAE (eV)')\n",
    "ax.set_xlabel('$\\lambda$')\n",
    "\n",
    "fig.set_size_inches(3.5, 2.5)"
   ]
  },
  {
   "cell_type": "markdown",
   "metadata": {},
   "source": [
    "Get the right linear regression tool. Ridge if it works better, Linear Regression otherwise"
   ]
  },
  {
   "cell_type": "code",
   "execution_count": 121,
   "metadata": {},
   "outputs": [],
   "source": [
    "model = lr if lr_mae < np.min(ridge_mae) else Ridge(alpha=lambdas[np.argmin(ridge_mae)], fit_intercept=False).fit(K_train, train_data['deltaIP_g4mp2a_b3lypLa'])"
   ]
  },
  {
   "cell_type": "code",
   "execution_count": 122,
   "metadata": {},
   "outputs": [
    {
     "data": {
      "text/plain": [
       "Ridge(alpha=3.557796490339488e-10, copy_X=True, fit_intercept=False,\n",
       "   max_iter=None, normalize=False, random_state=None, solver='auto',\n",
       "   tol=0.001)"
      ]
     },
     "execution_count": 122,
     "metadata": {},
     "output_type": "execute_result"
    }
   ],
   "source": [
    "model"
   ]
  },
  {
   "cell_type": "markdown",
   "metadata": {},
   "source": [
    "## Make the model\n",
    "Combine the two components and save it to disk"
   ]
  },
  {
   "cell_type": "code",
   "execution_count": 123,
   "metadata": {},
   "outputs": [],
   "source": [
    "#del K_train # Huge and no longer needed"
   ]
  },
  {
   "cell_type": "code",
   "execution_count": 124,
   "metadata": {},
   "outputs": [],
   "source": [
    "model = Pipeline([\n",
    "    ('kernel', fchl),\n",
    "    ('model', model)\n",
    "])"
   ]
  },
  {
   "cell_type": "code",
   "execution_count": 125,
   "metadata": {},
   "outputs": [],
   "source": [
    "with gzip.open('model_deltaIP_g4mp2a_b3lypLa.pkl.gz', 'wb') as fp:\n",
    "    pkl.dump(model, fp)"
   ]
  },
  {
   "cell_type": "code",
   "execution_count": 126,
   "metadata": {},
   "outputs": [],
   "source": [
    "train_data.to_pickle('train_data_deltaIP_g4mp2a_b3lypLa.pkl.gz')"
   ]
  },
  {
   "cell_type": "code",
   "execution_count": 127,
   "metadata": {},
   "outputs": [],
   "source": [
    "test_data.to_pickle('test_data_deltaIP_g4mp2a_b3lypLa.pkl.gz')"
   ]
  },
  {
   "cell_type": "code",
   "execution_count": null,
   "metadata": {},
   "outputs": [],
   "source": []
  },
  {
   "cell_type": "code",
   "execution_count": null,
   "metadata": {},
   "outputs": [],
   "source": []
  },
  {
   "cell_type": "markdown",
   "metadata": {},
   "source": [
    "### Adjust the Hyperparameters for wB97Xd and G4MP2 IPs\n",
    "Determine how much regularization to use"
   ]
  },
  {
   "cell_type": "markdown",
   "metadata": {},
   "source": [
    "First, without regularization"
   ]
  },
  {
   "cell_type": "code",
   "execution_count": 128,
   "metadata": {},
   "outputs": [
    {
     "name": "stdout",
     "output_type": "stream",
     "text": [
      "Without regularization: 7.43e-02\n"
     ]
    }
   ],
   "source": [
    "lr = LinearRegression(fit_intercept=False)\n",
    "y_pred = lr.fit(K_train, train_data['deltaIP_g4mp2_wb97xd']).predict(K_test)\n",
    "lr_mae = mean_absolute_error(y_pred, test_data['deltaIP_g4mp2_wb97xd'])\n",
    "print('Without regularization: {:.2e}'.format(lr_mae))"
   ]
  },
  {
   "cell_type": "markdown",
   "metadata": {},
   "source": [
    "Run the model with ridge parameters"
   ]
  },
  {
   "cell_type": "code",
   "execution_count": 129,
   "metadata": {},
   "outputs": [],
   "source": [
    "lambdas = np.logspace(-16, 0, 128)"
   ]
  },
  {
   "cell_type": "code",
   "execution_count": 130,
   "metadata": {},
   "outputs": [
    {
     "name": "stdout",
     "output_type": "stream",
     "text": [
      "Best regularization: 3.18e-02 at lambda: 4.8e-09\n"
     ]
    }
   ],
   "source": [
    "with warnings.catch_warnings():\n",
    "    warnings.simplefilter(\"ignore\")\n",
    "    ridge_mae = [\n",
    "        mean_absolute_error(Ridge(alpha=l, fit_intercept=False).fit(K_train, train_data['deltaIP_g4mp2_wb97xd']).predict(K_test), test_data['deltaIP_g4mp2_wb97xd'])\n",
    "        for l in lambdas\n",
    "    ]\n",
    "    print('Best regularization: {:.2e} at lambda: {:.1e}'.format(np.min(ridge_mae), lambdas[np.argmin(ridge_mae)]))"
   ]
  },
  {
   "cell_type": "code",
   "execution_count": 131,
   "metadata": {},
   "outputs": [
    {
     "data": {
      "image/png": "[encoded data removed]",
      "text/plain": [
       "<Figure size 252x180 with 1 Axes>"
      ]
     },
     "metadata": {
      "needs_background": "light"
     },
     "output_type": "display_data"
    }
   ],
   "source": [
    "fig, ax  = plt.subplots()\n",
    "\n",
    "ax.loglog(lambdas, ridge_mae, 'o--')\n",
    "\n",
    "ax.set_ylabel('MAE (eV)')\n",
    "ax.set_xlabel('$\\lambda$')\n",
    "\n",
    "fig.set_size_inches(3.5, 2.5)"
   ]
  },
  {
   "cell_type": "markdown",
   "metadata": {},
   "source": [
    "Get the right linear regression tool. Ridge if it works better, Linear Regression otherwise"
   ]
  },
  {
   "cell_type": "code",
   "execution_count": 132,
   "metadata": {},
   "outputs": [],
   "source": [
    "model = lr if lr_mae < np.min(ridge_mae) else Ridge(alpha=lambdas[np.argmin(ridge_mae)], fit_intercept=False).fit(K_train, train_data['deltaIP_g4mp2_wb97xd'])\n"
   ]
  },
  {
   "cell_type": "code",
   "execution_count": 133,
   "metadata": {},
   "outputs": [
    {
     "data": {
      "text/plain": [
       "Ridge(alpha=4.842162612301513e-09, copy_X=True, fit_intercept=False,\n",
       "   max_iter=None, normalize=False, random_state=None, solver='auto',\n",
       "   tol=0.001)"
      ]
     },
     "execution_count": 133,
     "metadata": {},
     "output_type": "execute_result"
    }
   ],
   "source": [
    "model"
   ]
  },
  {
   "cell_type": "markdown",
   "metadata": {},
   "source": [
    "## Make the model\n",
    "Combine the two components and save it to disk"
   ]
  },
  {
   "cell_type": "code",
   "execution_count": 134,
   "metadata": {},
   "outputs": [],
   "source": [
    "#del K_train # Huge and no longer needed"
   ]
  },
  {
   "cell_type": "code",
   "execution_count": 135,
   "metadata": {},
   "outputs": [],
   "source": [
    "model = Pipeline([\n",
    "    ('kernel', fchl),\n",
    "    ('model', model)\n",
    "])"
   ]
  },
  {
   "cell_type": "code",
   "execution_count": 136,
   "metadata": {},
   "outputs": [],
   "source": [
    "with gzip.open('model_deltaIP_g4mp2_wb97xd.pkl.gz', 'wb') as fp:\n",
    "    pkl.dump(model, fp)"
   ]
  },
  {
   "cell_type": "code",
   "execution_count": 137,
   "metadata": {},
   "outputs": [],
   "source": [
    "train_data.to_pickle('train_data_deltaIP_g4mp2_wb97xd.pkl.gz')"
   ]
  },
  {
   "cell_type": "code",
   "execution_count": 138,
   "metadata": {},
   "outputs": [],
   "source": [
    "test_data.to_pickle('test_data_deltaIP_g4mp2_wb97xd.pkl.gz')"
   ]
  },
  {
   "cell_type": "code",
   "execution_count": null,
   "metadata": {},
   "outputs": [],
   "source": []
  },
  {
   "cell_type": "markdown",
   "metadata": {},
   "source": [
    "### Adjust the Hyperparameters for wB97Xd and G4MP2-A IPs\n",
    "Determine how much regularization to use"
   ]
  },
  {
   "cell_type": "markdown",
   "metadata": {},
   "source": [
    "First, without regularization"
   ]
  },
  {
   "cell_type": "code",
   "execution_count": 139,
   "metadata": {},
   "outputs": [
    {
     "name": "stdout",
     "output_type": "stream",
     "text": [
      "Without regularization: 7.43e-02\n"
     ]
    }
   ],
   "source": [
    "lr = LinearRegression(fit_intercept=False)\n",
    "y_pred = lr.fit(K_train, train_data['deltaIP_g4mp2a_wb97xd']).predict(K_test)\n",
    "lr_mae = mean_absolute_error(y_pred, test_data['deltaIP_g4mp2a_wb97xd'])\n",
    "print('Without regularization: {:.2e}'.format(lr_mae))"
   ]
  },
  {
   "cell_type": "markdown",
   "metadata": {},
   "source": [
    "Run the model with ridge parameters"
   ]
  },
  {
   "cell_type": "code",
   "execution_count": 140,
   "metadata": {},
   "outputs": [],
   "source": [
    "lambdas = np.logspace(-16, 0, 128)"
   ]
  },
  {
   "cell_type": "code",
   "execution_count": 141,
   "metadata": {},
   "outputs": [
    {
     "name": "stdout",
     "output_type": "stream",
     "text": [
      "Best regularization: 3.18e-02 at lambda: 4.8e-09\n"
     ]
    }
   ],
   "source": [
    "with warnings.catch_warnings():\n",
    "    warnings.simplefilter(\"ignore\")\n",
    "    ridge_mae = [\n",
    "        mean_absolute_error(Ridge(alpha=l, fit_intercept=False).fit(K_train, train_data['deltaIP_g4mp2a_wb97xd']).predict(K_test), test_data['deltaIP_g4mp2a_wb97xd'])\n",
    "        for l in lambdas\n",
    "    ]\n",
    "    print('Best regularization: {:.2e} at lambda: {:.1e}'.format(np.min(ridge_mae), lambdas[np.argmin(ridge_mae)]))"
   ]
  },
  {
   "cell_type": "code",
   "execution_count": 142,
   "metadata": {},
   "outputs": [
    {
     "data": {
      "image/png": "[encoded data removed]",
      "text/plain": [
       "<Figure size 252x180 with 1 Axes>"
      ]
     },
     "metadata": {
      "needs_background": "light"
     },
     "output_type": "display_data"
    }
   ],
   "source": [
    "fig, ax  = plt.subplots()\n",
    "\n",
    "ax.loglog(lambdas, ridge_mae, 'o--')\n",
    "\n",
    "ax.set_ylabel('MAE (eV)')\n",
    "ax.set_xlabel('$\\lambda$')\n",
    "\n",
    "fig.set_size_inches(3.5, 2.5)"
   ]
  },
  {
   "cell_type": "markdown",
   "metadata": {},
   "source": [
    "Get the right linear regression tool. Ridge if it works better, Linear Regression otherwise"
   ]
  },
  {
   "cell_type": "code",
   "execution_count": 143,
   "metadata": {},
   "outputs": [],
   "source": [
    "model = lr if lr_mae < np.min(ridge_mae) else Ridge(alpha=lambdas[np.argmin(ridge_mae)], fit_intercept=False).fit(K_train, train_data['deltaIP_g4mp2a_wb97xd'])\n"
   ]
  },
  {
   "cell_type": "code",
   "execution_count": 144,
   "metadata": {},
   "outputs": [
    {
     "data": {
      "text/plain": [
       "Ridge(alpha=4.842162612301513e-09, copy_X=True, fit_intercept=False,\n",
       "   max_iter=None, normalize=False, random_state=None, solver='auto',\n",
       "   tol=0.001)"
      ]
     },
     "execution_count": 144,
     "metadata": {},
     "output_type": "execute_result"
    }
   ],
   "source": [
    "model"
   ]
  },
  {
   "cell_type": "markdown",
   "metadata": {},
   "source": [
    "## Make the model\n",
    "Combine the two components and save it to disk"
   ]
  },
  {
   "cell_type": "code",
   "execution_count": 145,
   "metadata": {},
   "outputs": [],
   "source": [
    "#del K_train # Huge and no longer needed"
   ]
  },
  {
   "cell_type": "code",
   "execution_count": 146,
   "metadata": {},
   "outputs": [],
   "source": [
    "model = Pipeline([\n",
    "    ('kernel', fchl),\n",
    "    ('model', model)\n",
    "])"
   ]
  },
  {
   "cell_type": "code",
   "execution_count": 147,
   "metadata": {},
   "outputs": [],
   "source": [
    "with gzip.open('model_deltaIP_g4mp2a_wb97xd.pkl.gz', 'wb') as fp:\n",
    "    pkl.dump(model, fp)"
   ]
  },
  {
   "cell_type": "code",
   "execution_count": 148,
   "metadata": {},
   "outputs": [],
   "source": [
    "train_data.to_pickle('train_data_deltaIP_g4mp2a_wb97xd.pkl.gz')"
   ]
  },
  {
   "cell_type": "code",
   "execution_count": 149,
   "metadata": {},
   "outputs": [],
   "source": [
    "test_data.to_pickle('test_data_deltaIP_g4mp2a_wb97xd.pkl.gz')"
   ]
  },
  {
   "cell_type": "code",
   "execution_count": null,
   "metadata": {},
   "outputs": [],
   "source": []
  },
  {
   "cell_type": "code",
   "execution_count": null,
   "metadata": {},
   "outputs": [],
   "source": []
  },
  {
   "cell_type": "markdown",
   "metadata": {},
   "source": [
    "### Adjust the Hyperparameters for wB97Xd-A and G4MP2 IPs\n",
    "Determine how much regularization to use"
   ]
  },
  {
   "cell_type": "markdown",
   "metadata": {},
   "source": [
    "First, without regularization"
   ]
  },
  {
   "cell_type": "code",
   "execution_count": 150,
   "metadata": {},
   "outputs": [
    {
     "name": "stdout",
     "output_type": "stream",
     "text": [
      "Without regularization: 7.43e-02\n"
     ]
    }
   ],
   "source": [
    "lr = LinearRegression(fit_intercept=False)\n",
    "y_pred = lr.fit(K_train, train_data['deltaIP_g4mp2_wb97xda']).predict(K_test)\n",
    "lr_mae = mean_absolute_error(y_pred, test_data['deltaIP_g4mp2_wb97xda'])\n",
    "print('Without regularization: {:.2e}'.format(lr_mae))"
   ]
  },
  {
   "cell_type": "markdown",
   "metadata": {},
   "source": [
    "Run the model with ridge parameters"
   ]
  },
  {
   "cell_type": "code",
   "execution_count": 151,
   "metadata": {},
   "outputs": [],
   "source": [
    "lambdas = np.logspace(-16, 0, 128)"
   ]
  },
  {
   "cell_type": "code",
   "execution_count": 152,
   "metadata": {},
   "outputs": [
    {
     "name": "stdout",
     "output_type": "stream",
     "text": [
      "Best regularization: 3.18e-02 at lambda: 4.8e-09\n"
     ]
    }
   ],
   "source": [
    "with warnings.catch_warnings():\n",
    "    warnings.simplefilter(\"ignore\")\n",
    "    ridge_mae = [\n",
    "        mean_absolute_error(Ridge(alpha=l, fit_intercept=False).fit(K_train, train_data['deltaIP_g4mp2_wb97xda']).predict(K_test), test_data['deltaIP_g4mp2_wb97xda'])\n",
    "        for l in lambdas\n",
    "    ]\n",
    "    print('Best regularization: {:.2e} at lambda: {:.1e}'.format(np.min(ridge_mae), lambdas[np.argmin(ridge_mae)]))"
   ]
  },
  {
   "cell_type": "code",
   "execution_count": 153,
   "metadata": {},
   "outputs": [
    {
     "data": {
      "image/png": "[encoded data removed]",
      "text/plain": [
       "<Figure size 252x180 with 1 Axes>"
      ]
     },
     "metadata": {
      "needs_background": "light"
     },
     "output_type": "display_data"
    }
   ],
   "source": [
    "fig, ax  = plt.subplots()\n",
    "\n",
    "ax.loglog(lambdas, ridge_mae, 'o--')\n",
    "\n",
    "ax.set_ylabel('MAE (eV)')\n",
    "ax.set_xlabel('$\\lambda$')\n",
    "\n",
    "fig.set_size_inches(3.5, 2.5)"
   ]
  },
  {
   "cell_type": "markdown",
   "metadata": {},
   "source": [
    "Get the right linear regression tool. Ridge if it works better, Linear Regression otherwise"
   ]
  },
  {
   "cell_type": "code",
   "execution_count": 154,
   "metadata": {},
   "outputs": [],
   "source": [
    "model = lr if lr_mae < np.min(ridge_mae) else Ridge(alpha=lambdas[np.argmin(ridge_mae)], fit_intercept=False).fit(K_train, train_data['deltaIP_g4mp2_wb97xda'])\n"
   ]
  },
  {
   "cell_type": "code",
   "execution_count": 155,
   "metadata": {},
   "outputs": [
    {
     "data": {
      "text/plain": [
       "Ridge(alpha=4.842162612301513e-09, copy_X=True, fit_intercept=False,\n",
       "   max_iter=None, normalize=False, random_state=None, solver='auto',\n",
       "   tol=0.001)"
      ]
     },
     "execution_count": 155,
     "metadata": {},
     "output_type": "execute_result"
    }
   ],
   "source": [
    "model"
   ]
  },
  {
   "cell_type": "markdown",
   "metadata": {},
   "source": [
    "## Make the model\n",
    "Combine the two components and save it to disk"
   ]
  },
  {
   "cell_type": "code",
   "execution_count": 156,
   "metadata": {},
   "outputs": [],
   "source": [
    "#del K_train # Huge and no longer needed"
   ]
  },
  {
   "cell_type": "code",
   "execution_count": 157,
   "metadata": {},
   "outputs": [],
   "source": [
    "model = Pipeline([\n",
    "    ('kernel', fchl),\n",
    "    ('model', model)\n",
    "])"
   ]
  },
  {
   "cell_type": "code",
   "execution_count": 158,
   "metadata": {},
   "outputs": [],
   "source": [
    "with gzip.open('model_deltaIP_g4mp2_wb97xda.pkl.gz', 'wb') as fp:\n",
    "    pkl.dump(model, fp)"
   ]
  },
  {
   "cell_type": "code",
   "execution_count": 159,
   "metadata": {},
   "outputs": [],
   "source": [
    "train_data.to_pickle('train_data_deltaIP_g4mp2_wb97xda.pkl.gz')"
   ]
  },
  {
   "cell_type": "code",
   "execution_count": 160,
   "metadata": {},
   "outputs": [],
   "source": [
    "test_data.to_pickle('test_data_deltaIP_g4mp2_wb97xda.pkl.gz')"
   ]
  },
  {
   "cell_type": "code",
   "execution_count": null,
   "metadata": {},
   "outputs": [],
   "source": []
  },
  {
   "cell_type": "code",
   "execution_count": null,
   "metadata": {},
   "outputs": [],
   "source": []
  },
  {
   "cell_type": "markdown",
   "metadata": {},
   "source": [
    "### Adjust the Hyperparameters for wB97Xd-A and G4MP2-A IPs\n",
    "Determine how much regularization to use"
   ]
  },
  {
   "cell_type": "markdown",
   "metadata": {},
   "source": [
    "First, without regularization"
   ]
  },
  {
   "cell_type": "code",
   "execution_count": 161,
   "metadata": {},
   "outputs": [
    {
     "name": "stdout",
     "output_type": "stream",
     "text": [
      "Without regularization: 7.43e-02\n"
     ]
    }
   ],
   "source": [
    "lr = LinearRegression(fit_intercept=False)\n",
    "y_pred = lr.fit(K_train, train_data['deltaIP_g4mp2a_wb97xda']).predict(K_test)\n",
    "lr_mae = mean_absolute_error(y_pred, test_data['deltaIP_g4mp2a_wb97xda'])\n",
    "print('Without regularization: {:.2e}'.format(lr_mae))"
   ]
  },
  {
   "cell_type": "markdown",
   "metadata": {},
   "source": [
    "Run the model with ridge parameters"
   ]
  },
  {
   "cell_type": "code",
   "execution_count": 162,
   "metadata": {},
   "outputs": [],
   "source": [
    "lambdas = np.logspace(-16, 0, 128)"
   ]
  },
  {
   "cell_type": "code",
   "execution_count": 163,
   "metadata": {},
   "outputs": [
    {
     "name": "stdout",
     "output_type": "stream",
     "text": [
      "Best regularization: 3.18e-02 at lambda: 4.8e-09\n"
     ]
    }
   ],
   "source": [
    "with warnings.catch_warnings():\n",
    "    warnings.simplefilter(\"ignore\")\n",
    "    ridge_mae = [\n",
    "        mean_absolute_error(Ridge(alpha=l, fit_intercept=False).fit(K_train, train_data['deltaIP_g4mp2a_wb97xda']).predict(K_test), test_data['deltaIP_g4mp2a_wb97xda'])\n",
    "        for l in lambdas\n",
    "    ]\n",
    "    print('Best regularization: {:.2e} at lambda: {:.1e}'.format(np.min(ridge_mae), lambdas[np.argmin(ridge_mae)]))"
   ]
  },
  {
   "cell_type": "code",
   "execution_count": 164,
   "metadata": {},
   "outputs": [
    {
     "data": {
      "image/png": "[encoded data removed]",
      "text/plain": [
       "<Figure size 252x180 with 1 Axes>"
      ]
     },
     "metadata": {
      "needs_background": "light"
     },
     "output_type": "display_data"
    }
   ],
   "source": [
    "fig, ax  = plt.subplots()\n",
    "\n",
    "ax.loglog(lambdas, ridge_mae, 'o--')\n",
    "\n",
    "ax.set_ylabel('MAE (eV)')\n",
    "ax.set_xlabel('$\\lambda$')\n",
    "\n",
    "fig.set_size_inches(3.5, 2.5)"
   ]
  },
  {
   "cell_type": "markdown",
   "metadata": {},
   "source": [
    "Get the right linear regression tool. Ridge if it works better, Linear Regression otherwise"
   ]
  },
  {
   "cell_type": "code",
   "execution_count": 165,
   "metadata": {},
   "outputs": [],
   "source": [
    "model = lr if lr_mae < np.min(ridge_mae) else Ridge(alpha=lambdas[np.argmin(ridge_mae)], fit_intercept=False).fit(K_train, train_data['deltaIP_g4mp2a_wb97xda'])\n"
   ]
  },
  {
   "cell_type": "code",
   "execution_count": 166,
   "metadata": {},
   "outputs": [
    {
     "data": {
      "text/plain": [
       "Ridge(alpha=4.842162612301513e-09, copy_X=True, fit_intercept=False,\n",
       "   max_iter=None, normalize=False, random_state=None, solver='auto',\n",
       "   tol=0.001)"
      ]
     },
     "execution_count": 166,
     "metadata": {},
     "output_type": "execute_result"
    }
   ],
   "source": [
    "model"
   ]
  },
  {
   "cell_type": "markdown",
   "metadata": {},
   "source": [
    "## Make the model\n",
    "Combine the two components and save it to disk"
   ]
  },
  {
   "cell_type": "code",
   "execution_count": 167,
   "metadata": {},
   "outputs": [],
   "source": [
    "del K_train # Huge and no longer needed"
   ]
  },
  {
   "cell_type": "code",
   "execution_count": 168,
   "metadata": {},
   "outputs": [],
   "source": [
    "model = Pipeline([\n",
    "    ('kernel', fchl),\n",
    "    ('model', model)\n",
    "])"
   ]
  },
  {
   "cell_type": "code",
   "execution_count": 169,
   "metadata": {},
   "outputs": [],
   "source": [
    "with gzip.open('model_deltaIP_g4mp2a_wb97xda.pkl.gz', 'wb') as fp:\n",
    "    pkl.dump(model, fp)"
   ]
  },
  {
   "cell_type": "code",
   "execution_count": 170,
   "metadata": {},
   "outputs": [],
   "source": [
    "train_data.to_pickle('train_data_deltaIP_g4mp2a_wb97xda.pkl.gz')"
   ]
  },
  {
   "cell_type": "code",
   "execution_count": 171,
   "metadata": {},
   "outputs": [],
   "source": [
    "test_data.to_pickle('test_data_deltaIP_g4mp2a_wb97xda.pkl.gz')"
   ]
  },
  {
   "cell_type": "code",
   "execution_count": null,
   "metadata": {},
   "outputs": [],
   "source": []
  }
 ],
 "metadata": {
  "kernelspec": {
   "display_name": "Python 3",
   "language": "python",
   "name": "python3"
  },
  "language_info": {
   "codemirror_mode": {
    "name": "ipython",
    "version": 3
   },
   "file_extension": ".py",
   "mimetype": "text/x-python",
   "name": "python",
   "nbconvert_exporter": "python",
   "pygments_lexer": "ipython3",
   "version": "3.7.2"
  }
 },
 "nbformat": 4,
 "nbformat_minor": 4
}
