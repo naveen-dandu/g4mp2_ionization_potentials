{
 "cells": [
  {
   "cell_type": "markdown",
   "id": "short-repository",
   "metadata": {},
   "source": [
    "# Convert Data to ASE DBs\n",
    "That is the format that SchNetPack prefers for their data"
   ]
  },
  {
   "cell_type": "code",
   "execution_count": 1,
   "id": "competent-liberal",
   "metadata": {},
   "outputs": [],
   "source": [
    "from schnetpack.data import AtomsData\n",
    "from ase.io.xyz import read_xyz\n",
    "from io import StringIO\n",
    "import pandas as pd\n",
    "import numpy as np\n",
    "import os"
   ]
  },
  {
   "cell_type": "markdown",
   "id": "processed-journey",
   "metadata": {},
   "source": [
    "Configuration"
   ]
  },
  {
   "cell_type": "code",
   "execution_count": 2,
   "id": "exciting-ceiling",
   "metadata": {},
   "outputs": [],
   "source": [
    "target = 'G4MP2_IP_ASC'\n",
    "low_res = 'wB97Xd_IP_ASC'\n",
    "geom_column = 'xyz'"
   ]
  },
  {
   "cell_type": "markdown",
   "id": "colored-satellite",
   "metadata": {},
   "source": [
    "## Save Each Dataset\n",
    "Loop over and store the datasets "
   ]
  },
  {
   "cell_type": "code",
   "execution_count": 3,
   "id": "continuing-chinese",
   "metadata": {},
   "outputs": [],
   "source": [
    "os.makedirs('datasets', exist_ok=True)"
   ]
  },
  {
   "cell_type": "code",
   "execution_count": 4,
   "id": "interracial-timeline",
   "metadata": {},
   "outputs": [],
   "source": [
    "for name in ['train', 'test', 'valid']:\n",
    "    # Load data and compute delta\n",
    "    data = pd.read_csv(f'../data/input/GDB9/{name}.csv')\n",
    "    data['delta'] = data[target] - data[low_res]\n",
    "    \n",
    "    # Compute ASE atoms objects\n",
    "    data['atoms'] = data[geom_column].apply(lambda x: next(read_xyz(StringIO(x), slice(None))))\n",
    "    \n",
    "    # Store in an ASE db\n",
    "    out_path = f'datasets/{name}.db'\n",
    "    if os.path.isfile(out_path):\n",
    "        os.unlink(out_path)\n",
    "        \n",
    "    # Make the database\n",
    "    db = AtomsData(out_path, available_properties=['delta'])\n",
    "    \n",
    "    # Add the data\n",
    "    db.add_systems(data['atoms'], data['delta'].apply(lambda x: {'delta': np.atleast_1d(x)}).tolist())"
   ]
  },
  {
   "cell_type": "code",
   "execution_count": null,
   "id": "european-interim",
   "metadata": {},
   "outputs": [],
   "source": []
  },
  {
   "cell_type": "code",
   "execution_count": null,
   "id": "certain-theology",
   "metadata": {},
   "outputs": [],
   "source": []
  }
 ],
 "metadata": {
  "kernelspec": {
   "display_name": "Python 3 (ipykernel)",
   "language": "python",
   "name": "python3"
  },
  "language_info": {
   "codemirror_mode": {
    "name": "ipython",
    "version": 3
   },
   "file_extension": ".py",
   "mimetype": "text/x-python",
   "name": "python",
   "nbconvert_exporter": "python",
   "pygments_lexer": "ipython3",
   "version": "3.8.12"
  }
 },
 "nbformat": 4,
 "nbformat_minor": 5
}
